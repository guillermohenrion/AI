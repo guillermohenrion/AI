{
  "nbformat": 4,
  "nbformat_minor": 0,
  "metadata": {
    "kernelspec": {
      "display_name": "Python 3",
      "language": "python",
      "name": "python3"
    },
    "language_info": {
      "codemirror_mode": {
        "name": "ipython",
        "version": 3
      },
      "file_extension": ".py",
      "mimetype": "text/x-python",
      "name": "python",
      "nbconvert_exporter": "python",
      "pygments_lexer": "ipython3",
      "version": "3.7.5"
    },
    "colab": {
      "name": "text_cleaning.ipynb",
      "provenance": [],
      "collapsed_sections": [],
      "include_colab_link": true
    }
  },
  "cells": [
    {
      "cell_type": "markdown",
      "metadata": {
        "id": "view-in-github",
        "colab_type": "text"
      },
      "source": [
        "<a href=\"https://colab.research.google.com/github/guillermohenrion/AI/blob/master/text_cleaning.ipynb\" target=\"_parent\"><img src=\"https://colab.research.google.com/assets/colab-badge.svg\" alt=\"Open In Colab\"/></a>"
      ]
    },
    {
      "cell_type": "markdown",
      "metadata": {
        "id": "6gE4wiQOdNKk"
      },
      "source": [
        "# Preprocesamiento de texto"
      ]
    },
    {
      "cell_type": "code",
      "source": [
        ""
      ],
      "metadata": {
        "id": "EBE1hluiyf2v"
      },
      "execution_count": null,
      "outputs": []
    },
    {
      "cell_type": "markdown",
      "metadata": {
        "id": "kxPhPlYhdNKn"
      },
      "source": [
        "## Observaciones generales\n",
        "\n",
        "- símbolo extraño en encabezado\n",
        "- encabezado: \n",
        "    - página pares: \"ESTUDIOS PÚBLICOS\"\n",
        "    - páginas impares: \"FRIEDRICH A. HAYEK\"\n",
        "- notas al pie: dos \\t (?) y número de nota. En el texto aparece como un número"
      ]
    },
    {
      "cell_type": "markdown",
      "metadata": {
        "id": "SomjSV-AdNKp"
      },
      "source": [
        "## 1. Carga del texto"
      ]
    },
    {
      "cell_type": "code",
      "metadata": {
        "id": "lxtoH9SRdNKp"
      },
      "source": [
        "import re\n",
        "import json\n",
        "import string"
      ],
      "execution_count": null,
      "outputs": []
    },
    {
      "cell_type": "code",
      "metadata": {
        "id": "8wrIWECydNKq"
      },
      "source": [
        "with open('data/hayek/pdftotext/HayekIndividualismoElverdaderoyelfalso.txt','r',encoding='utf-8') as f:\n",
        "    doc = f.read()"
      ],
      "execution_count": null,
      "outputs": []
    },
    {
      "cell_type": "markdown",
      "metadata": {
        "id": "tjx7txpMdNKr"
      },
      "source": [
        "## 2. Limpieza"
      ]
    },
    {
      "cell_type": "markdown",
      "metadata": {
        "id": "ms0USa8CdNKr"
      },
      "source": [
        "Se reemplazan los encabezados por el identificador \\<newpage>:"
      ]
    },
    {
      "cell_type": "code",
      "metadata": {
        "id": "u643MdBxdNKs"
      },
      "source": [
        "def remove_header(text:str, save:bool=False):\n",
        "    header_pattern = re.compile(r\"\\n\\x0c(\\d+\\s+ESTUDIOS\\sPÚBLICOS|FRIEDRICH A. HAYEK\\s+\\d+)\\n{3}\")\n",
        "    headers = header_pattern.findall(text)\n",
        "    print('* Encabezados hallados:')\n",
        "    for h in headers:\n",
        "        print('\\t',h)\n",
        "    newtext = header_pattern.sub('\\n<newpage>',text)\n",
        "    if save:\n",
        "        with open('data/hayek/clean/1_headers_removed.txt','w') as f:\n",
        "            f.write(newtext)\n",
        "            f.close()\n",
        "    return newtext"
      ],
      "execution_count": null,
      "outputs": []
    },
    {
      "cell_type": "markdown",
      "metadata": {
        "id": "0fJXTzzLdNKs"
      },
      "source": [
        "Se unen palabras separadas por guión y salto de línea:"
      ]
    },
    {
      "cell_type": "code",
      "metadata": {
        "id": "sS5OKEL9dNKt"
      },
      "source": [
        "def join_words(text:str, verbose=True, save:bool=False):\n",
        "    sep = re.compile(r\"\\w+(\\-\\n)(\\s{8})?\\w+\")\n",
        "    separated_words = sep.finditer(text)\n",
        "    if verbose:\n",
        "        print('* Palabras separadas por guión:')\n",
        "    for sw in separated_words:\n",
        "        sep_word = sw.group()\n",
        "        joined_word = re.sub(r'\\-\\n+(\\s{8})?','',sep_word)\n",
        "        if verbose:\n",
        "            print('\\t',\n",
        "                  re.sub(r'\\s+','',sep_word.replace('\\n','\\\\n')),\n",
        "                  '>',\n",
        "                  joined_word)\n",
        "        text = re.sub(sep_word, joined_word, text)\n",
        "    if save:\n",
        "        with open('data/hayek/clean/2_joined_words.txt','w') as f:\n",
        "            f.write(text)\n",
        "            f.close()\n",
        "    return text\n",
        "\n",
        "\n",
        "def join_words2(text:str, verbose=True, save:bool=False):\n",
        "    sep = re.compile(r\"\\w+(\\-\\n+)\\w+\")\n",
        "    separated_words = sep.finditer(text)\n",
        "    if verbose:\n",
        "        print('* Palabras separadas por guión:')\n",
        "    for sw in separated_words:\n",
        "        sep_word = sw.group()\n",
        "        joined_word = re.sub(r'\\-\\n+','',sep_word)\n",
        "        if verbose:\n",
        "            print('\\t',\n",
        "                  re.sub(r'\\s+','',sep_word.replace('\\n','\\\\n')),\n",
        "                  '>',\n",
        "                  joined_word)\n",
        "        text = re.sub(sep_word, joined_word, text)\n",
        "    if save:\n",
        "        with open('data/hayek/clean/12_joined_words.txt','w') as f:\n",
        "            f.write(text)\n",
        "            f.close()\n",
        "    return text"
      ],
      "execution_count": null,
      "outputs": []
    },
    {
      "cell_type": "markdown",
      "metadata": {
        "id": "AIeYJSZrdNKt"
      },
      "source": [
        "Se identifican las notas al pie con la etiqueta \\<footnote>:"
      ]
    },
    {
      "cell_type": "code",
      "metadata": {
        "id": "lCM-vFEcdNKu"
      },
      "source": [
        "def footnotes_identify(text:str, save=False):\n",
        "    footnotes_start = re.compile(r'\\s{9}(\\*|\\d+)\\s')\n",
        "    all_footnotes = footnotes_start.finditer(text)\n",
        "    print('* Inicio de notas al pie localizados')\n",
        "    foots_list = list()\n",
        "    for af in all_footnotes:\n",
        "        note = af.group()\n",
        "        foots_list.append(note)\n",
        "        text = text.replace(note, '\\n<footnote>\\n'+note)\n",
        "    print('\\t', list(map(str.strip,foots_list)))\n",
        "    if save:\n",
        "        with open('data/hayek/clean/3_footnotes_identified.txt','w') as f:\n",
        "            f.write(text)\n",
        "            f.close()\n",
        "    return text"
      ],
      "execution_count": null,
      "outputs": []
    },
    {
      "cell_type": "code",
      "metadata": {
        "id": "nqRda2z6dNKu"
      },
      "source": [
        "def end_identify(text:str, save=False):\n",
        "    print('* Final del documento localizado')\n",
        "    text = re.sub(r'\\x0c$','<text-end>',text)\n",
        "    if save:\n",
        "        with open('data/hayek/clean/4_text_end_identified.txt','w') as f:\n",
        "            f.write(text)\n",
        "            f.close()\n",
        "    return text"
      ],
      "execution_count": null,
      "outputs": []
    },
    {
      "cell_type": "code",
      "metadata": {
        "id": "5C5JItdYdNKv"
      },
      "source": [
        "def unique_newline(text:str):\n",
        "    newtext = re.sub(r'\\n+','\\n',text)\n",
        "    return newtext"
      ],
      "execution_count": null,
      "outputs": []
    },
    {
      "cell_type": "code",
      "metadata": {
        "id": "CkV7dCL_dNKv"
      },
      "source": [
        "def remove_newline(text:str):\n",
        "    newtext = re.sub(r'\\n',' ',text)\n",
        "    newtext = re.sub(r'\\s{2}',' ',text)\n",
        "    return newtext"
      ],
      "execution_count": null,
      "outputs": []
    },
    {
      "cell_type": "code",
      "metadata": {
        "id": "Rmd33zm-dNKw"
      },
      "source": [
        "def extract_footnote(text:str, save=False):\n",
        "    footnote_paragraph = re.compile(r'''\n",
        "                                    (?<=\\<footnote\\>) # cualquier cosa después de una marca de footnote\n",
        "                                    \\n\\s{9}(\\*|\\d+)   # salto de línea + 9 espacios + * o dígitos\n",
        "                                    (.*?\\n)+?         # cualquier cosa (incl. salto de línea)   \n",
        "                                    (?=\\<)            # hasta que haya un <\n",
        "                                    ''',       \n",
        "                                    re.X)\n",
        "    paragraphs = footnote_paragraph.finditer(text)\n",
        "    footnotes = dict()\n",
        "    for p in paragraphs:\n",
        "        note = unique_newline(p.group().strip())\n",
        "        note = remove_newline(join_words(note, verbose=False))\n",
        "        note_nr = re.match(r'(\\*|\\d+)',note).group()\n",
        "        note_text = re.sub(r'^(\\*|\\d+)','',note).strip()\n",
        "        footnotes[note_nr] = note_text\n",
        "        text = text.replace(p.group(),'<footnote-removed>')\n",
        "    print('* Notas al pie extraídas')\n",
        "    if save:\n",
        "        with open('data/hayek/clean/5_footnotes_removed.txt','w') as f:\n",
        "            f.write(text)\n",
        "            f.close()\n",
        "        with open('data/hayek/clean/8_footnotes_dict.json','w') as f:\n",
        "            json.dump(footnotes, f, ensure_ascii=False, indent=4)\n",
        "    return text, footnotes"
      ],
      "execution_count": null,
      "outputs": []
    },
    {
      "cell_type": "code",
      "metadata": {
        "id": "ZT6hvr8QdNKw"
      },
      "source": [
        "def remove_footnote_marks(text, save=False):\n",
        "    text = re.sub(r'\\<(footnote(\\-removed)?)\\>','',text)\n",
        "    print('* Etiquetas de nota al pie eliminadas')\n",
        "    if save:\n",
        "        with open('data/hayek/clean/6_footnotes_label_removed.txt','w') as f:\n",
        "            f.write(text)\n",
        "            f.close()\n",
        "    return text"
      ],
      "execution_count": null,
      "outputs": []
    },
    {
      "cell_type": "code",
      "metadata": {
        "id": "YH4YjVvZdNKx"
      },
      "source": [
        "def remove_main_header(text:str, save=False):\n",
        "    text = re.sub(r'\\s+DOCUMENTO','',text)\n",
        "    print('* Encabezado principal eliminado (DOCUMENTO)')\n",
        "    if save:\n",
        "        with open('data/hayek/clean/7_main_header_removed.txt','w') as f:\n",
        "            f.write(text)\n",
        "            f.close()\n",
        "    return text"
      ],
      "execution_count": null,
      "outputs": []
    },
    {
      "cell_type": "code",
      "metadata": {
        "id": "8nTkMweDdNKy"
      },
      "source": [
        "def identify_notes_in_text(text: str, verbose=True, save=False):\n",
        "    note_patterns = re.compile(r'([a-zA-Z]|\\.)(\\*|\\d+)')\n",
        "    note_marks = note_patterns.finditer(text)\n",
        "    print('* Marcadores de nota al pie reemplazdos por etiquetas')\n",
        "    for nm in note_marks:\n",
        "        note = nm.group()\n",
        "        nr = note[1:]\n",
        "        note_identifyer = note[0]+f'<footnote-{nr}>'\n",
        "        text = re.sub(re.escape(note), note_identifyer, text, count=1)\n",
        "        if verbose:\n",
        "            print('\\t',note,' > ',note_identifyer)\n",
        "    if save:\n",
        "        with open('data/hayek/clean/8_footnotes_marks_identified.txt','w') as f:\n",
        "            f.write(text)\n",
        "            f.close()\n",
        "    return text"
      ],
      "execution_count": null,
      "outputs": []
    },
    {
      "cell_type": "code",
      "metadata": {
        "id": "y9Vt2XmfdNKz"
      },
      "source": [
        "def remove_newpage(text:str, save=False):\n",
        "    text = re.sub(r'\\<newpage\\>','',text)\n",
        "    if save:\n",
        "        with open('data/hayek/clean/9_newpage_removed.txt','w') as f:\n",
        "            f.write(text)\n",
        "            f.close()\n",
        "    return text"
      ],
      "execution_count": null,
      "outputs": []
    },
    {
      "cell_type": "code",
      "metadata": {
        "id": "2p9nD6AKdNK0"
      },
      "source": [
        "def add_indentation_tabs(text:str, save=False):\n",
        "    text = re.sub(r'\\n\\s{8}([A-Z])',r'\\n\\t\\1',text)\n",
        "    if save:\n",
        "        with open('data/hayek/clean/10_indentation_tabs.txt','w') as f:\n",
        "            f.write(text)\n",
        "            f.close()\n",
        "    return text"
      ],
      "execution_count": null,
      "outputs": []
    },
    {
      "cell_type": "code",
      "metadata": {
        "id": "qV2MRRf-dNK0"
      },
      "source": [
        "def remove_newlines_inside_paragraphs(text:str, save=False):\n",
        "    text = re.sub(r'([A-Za-záéíóú]|\\,|\\.|\\;|\\?|\\!|\\))\\n+(?!\\t)',' ',text)\n",
        "    if save:\n",
        "        with open('data/hayek/clean/11_join_paragraphs.txt','w') as f:\n",
        "            f.write(text)\n",
        "            f.close()\n",
        "    return text"
      ],
      "execution_count": null,
      "outputs": []
    },
    {
      "cell_type": "code",
      "metadata": {
        "id": "UcyBrbMZdNK1"
      },
      "source": [
        "def remove_spaces(text:str, save=False):\n",
        "    text = re.sub(' +',' ',text)\n",
        "    if save:\n",
        "        with open('data/hayek/clean/13_spaces_removed.txt','w') as f:\n",
        "            f.write(text)\n",
        "            f.close()\n",
        "    return text"
      ],
      "execution_count": null,
      "outputs": []
    },
    {
      "cell_type": "code",
      "metadata": {
        "id": "QVMAxdy2dNK1"
      },
      "source": [
        "def remove_many_newlines(text:str, save=True):\n",
        "    text = re.sub(r'\\n+',r'\\n',text)\n",
        "    if save:\n",
        "        with open('data/hayek/clean/14_many_newlines_removed.txt','w') as f:\n",
        "            f.write(text)\n",
        "            f.close()\n",
        "    return text"
      ],
      "execution_count": null,
      "outputs": []
    },
    {
      "cell_type": "code",
      "metadata": {
        "id": "eFKYDiPWdNK2"
      },
      "source": [
        ""
      ],
      "execution_count": null,
      "outputs": []
    },
    {
      "cell_type": "code",
      "metadata": {
        "colab": {
          "base_uri": "https://localhost:8080/"
        },
        "id": "hp10Q-KydNK2",
        "outputId": "8977dcd8-1116-4736-8b7f-955d4e031eba"
      },
      "source": [
        "newdoc = remove_header(doc, save=True)"
      ],
      "execution_count": null,
      "outputs": [
        {
          "output_type": "stream",
          "text": [
            "* Encabezados hallados:\n",
            "\t 2                                                            ESTUDIOS PÚBLICOS\n",
            "\t FRIEDRICH A. HAYEK                                                             3\n",
            "\t 4                                                               ESTUDIOS PÚBLICOS\n",
            "\t FRIEDRICH A. HAYEK                                                                      5\n",
            "\t 6                                                                ESTUDIOS PÚBLICOS\n",
            "\t FRIEDRICH A. HAYEK                                                                      7\n",
            "\t 8                                                                 ESTUDIOS PÚBLICOS\n",
            "\t FRIEDRICH A. HAYEK                                                                       9\n",
            "\t 10                                                             ESTUDIOS PÚBLICOS\n",
            "\t FRIEDRICH A. HAYEK                                                                      11\n",
            "\t 12                                                               ESTUDIOS PÚBLICOS\n",
            "\t FRIEDRICH A. HAYEK                                                          13\n",
            "\t 14                                                      ESTUDIOS PÚBLICOS\n",
            "\t FRIEDRICH A. HAYEK                                                                     15\n",
            "\t 16                                                             ESTUDIOS PÚBLICOS\n",
            "\t FRIEDRICH A. HAYEK                                                          17\n",
            "\t 18                                                        ESTUDIOS PÚBLICOS\n",
            "\t FRIEDRICH A. HAYEK                                                                      19\n",
            "\t 20                                                      ESTUDIOS PÚBLICOS\n",
            "\t FRIEDRICH A. HAYEK                                                                       21\n",
            "\t 22                                                        ESTUDIOS PÚBLICOS\n",
            "\t FRIEDRICH A. HAYEK                                                           23\n",
            "\t 24                                                           ESTUDIOS PÚBLICOS\n",
            "\t FRIEDRICH A. HAYEK                                                               25\n",
            "\t 26                                                         ESTUDIOS PÚBLICOS\n",
            "\t FRIEDRICH A. HAYEK                                                           27\n",
            "\t 28                                                          ESTUDIOS PÚBLICOS\n"
          ],
          "name": "stdout"
        }
      ]
    },
    {
      "cell_type": "code",
      "metadata": {
        "id": "mfSPJ4mqdNK4"
      },
      "source": [
        "newdoc = join_words(newdoc, verbose=False, save=True)"
      ],
      "execution_count": null,
      "outputs": []
    },
    {
      "cell_type": "code",
      "metadata": {
        "colab": {
          "base_uri": "https://localhost:8080/"
        },
        "id": "m9_VvIGBdNK5",
        "outputId": "f39e76c9-1ec5-4666-aaf3-066b2c2e252c"
      },
      "source": [
        "newdoc = footnotes_identify(newdoc, save=True)"
      ],
      "execution_count": null,
      "outputs": [
        {
          "output_type": "stream",
          "text": [
            "* Inicio de notas al pie localizados\n",
            "\t ['*', '1', '2', '3', '4', '5', '6', '7', '8', '9', '10', '11', '12', '13', '14', '15', '16', '17', '18', '19', '20', '21', '22', '23', '24', '25', '26', '27', '28', '29', '30', '31', '32']\n"
          ],
          "name": "stdout"
        }
      ]
    },
    {
      "cell_type": "code",
      "metadata": {
        "colab": {
          "base_uri": "https://localhost:8080/"
        },
        "id": "3sEyGBN6dNK5",
        "outputId": "65aa9096-bf1b-4f14-980e-5d1996adb08c"
      },
      "source": [
        "newdoc = end_identify(newdoc, save=True)"
      ],
      "execution_count": null,
      "outputs": [
        {
          "output_type": "stream",
          "text": [
            "* Final del documento localizado\n"
          ],
          "name": "stdout"
        }
      ]
    },
    {
      "cell_type": "code",
      "metadata": {
        "colab": {
          "base_uri": "https://localhost:8080/"
        },
        "id": "ByetJhFNdNK6",
        "outputId": "695301ae-49c4-4db0-9e51-d73282c7d67e"
      },
      "source": [
        "newdoc, footnotes = extract_footnote(newdoc, save=True)"
      ],
      "execution_count": null,
      "outputs": [
        {
          "output_type": "stream",
          "text": [
            "* Notas al pie extraídas\n"
          ],
          "name": "stdout"
        }
      ]
    },
    {
      "cell_type": "code",
      "metadata": {
        "colab": {
          "base_uri": "https://localhost:8080/",
          "height": 86
        },
        "id": "g628X9cWdNK6",
        "outputId": "8a39f9aa-078d-4be6-83b7-eb80196ffdd8"
      },
      "source": [
        "footnotes['*']"
      ],
      "execution_count": null,
      "outputs": [
        {
          "output_type": "execute_result",
          "data": {
            "application/vnd.google.colaboratory.intrinsic+json": {
              "type": "string"
            },
            "text/plain": [
              "'Este ensayo corresponde a una exposición pronunciada en la duodécima\\nFinlay Lecture en la University College de Dublín, en diciembre de 1945. Fue publicado\\nen 1946 en Dublín y Oxford y aparece en el volumen Individualism and Economic\\nOrder (The University of Chicago, 1948, reimpreso posteriormente por Gateway Editions Ltd., South Bend, Indiana). Se publica con la debida autorización.\\nEstudios Públicos, 22.'"
            ]
          },
          "metadata": {
            "tags": []
          },
          "execution_count": 56
        }
      ]
    },
    {
      "cell_type": "code",
      "metadata": {
        "colab": {
          "base_uri": "https://localhost:8080/"
        },
        "id": "4_BEbGRBdNK7",
        "outputId": "5687dd1d-4731-4d96-b339-260f390c6301"
      },
      "source": [
        "newdoc = remove_footnote_marks(newdoc, save=True)"
      ],
      "execution_count": null,
      "outputs": [
        {
          "output_type": "stream",
          "text": [
            "* Etiquetas de nota al pie eliminadas\n"
          ],
          "name": "stdout"
        }
      ]
    },
    {
      "cell_type": "code",
      "metadata": {
        "colab": {
          "base_uri": "https://localhost:8080/"
        },
        "id": "PKdMbFpqdNK7",
        "outputId": "ad5b19d5-06e9-47a9-b9da-b69337afd960"
      },
      "source": [
        "newdoc = remove_main_header(newdoc, save=True)"
      ],
      "execution_count": null,
      "outputs": [
        {
          "output_type": "stream",
          "text": [
            "* Encabezado principal eliminado (DOCUMENTO)\n"
          ],
          "name": "stdout"
        }
      ]
    },
    {
      "cell_type": "code",
      "metadata": {
        "colab": {
          "base_uri": "https://localhost:8080/"
        },
        "id": "MF-5DNmkdNK7",
        "outputId": "ed9ab3ed-24e5-4c57-c0cf-269abdd68969"
      },
      "source": [
        "newdoc = identify_notes_in_text(newdoc, save=True)"
      ],
      "execution_count": null,
      "outputs": [
        {
          "output_type": "stream",
          "text": [
            "* Marcadores de nota al pie reemplazdos por etiquetas\n",
            "\t O*  >  O<footnote-*>\n",
            "\t .1  >  .<footnote-1>\n",
            "\t .2  >  .<footnote-2>\n",
            "\t .3  >  .<footnote-3>\n",
            "\t .4  >  .<footnote-4>\n",
            "\t .5  >  .<footnote-5>\n",
            "\t .6  >  .<footnote-6>\n",
            "\t .7  >  .<footnote-7>\n",
            "\t .9  >  .<footnote-9>\n",
            "\t .10  >  .<footnote-10>\n",
            "\t .11  >  .<footnote-11>\n",
            "\t .12  >  .<footnote-12>\n",
            "\t .13  >  .<footnote-13>\n",
            "\t .15  >  .<footnote-15>\n",
            "\t .17  >  .<footnote-17>\n",
            "\t .19  >  .<footnote-19>\n",
            "\t .20  >  .<footnote-20>\n",
            "\t .22  >  .<footnote-22>\n",
            "\t .23  >  .<footnote-23>\n",
            "\t .24  >  .<footnote-24>\n",
            "\t .26  >  .<footnote-26>\n",
            "\t .27  >  .<footnote-27>\n",
            "\t .28  >  .<footnote-28>\n",
            "\t .29  >  .<footnote-29>\n",
            "\t .30  >  .<footnote-30>\n",
            "\t .32  >  .<footnote-32>\n"
          ],
          "name": "stdout"
        }
      ]
    },
    {
      "cell_type": "markdown",
      "metadata": {
        "id": "KhxiUeWRdNK8"
      },
      "source": [
        "Las notas 5 y 15 están cortadas."
      ]
    },
    {
      "cell_type": "code",
      "metadata": {
        "id": "dv7Y2bkkdNK8"
      },
      "source": [
        "newdoc = remove_newpage(newdoc, save=True)"
      ],
      "execution_count": null,
      "outputs": []
    },
    {
      "cell_type": "code",
      "metadata": {
        "id": "Ejq4Ai07dNK8"
      },
      "source": [
        "newdoc = add_indentation_tabs(newdoc, save=True)"
      ],
      "execution_count": null,
      "outputs": []
    },
    {
      "cell_type": "code",
      "metadata": {
        "id": "EPJPI2jpdNK9"
      },
      "source": [
        "newdoc = remove_newlines_inside_paragraphs(newdoc, save=True)"
      ],
      "execution_count": null,
      "outputs": []
    },
    {
      "cell_type": "code",
      "metadata": {
        "colab": {
          "base_uri": "https://localhost:8080/"
        },
        "id": "wCBVPNvtdNK9",
        "outputId": "9b2c9aa7-47bf-45af-fef5-9b40e4fa356a"
      },
      "source": [
        "newdoc = join_words2(newdoc, save=True)"
      ],
      "execution_count": null,
      "outputs": [
        {
          "output_type": "stream",
          "text": [
            "* Palabras separadas por guión:\n",
            "\t principal-\\n\\n\\n\\n\\nmente > principalmente\n",
            "\t institucio-\\n\\n\\n\\n\\nnes > instituciones\n",
            "\t he-\\n\\ncho > hecho\n",
            "\t esfuer-\\n\\n\\n\\nzo > esfuerzo\n",
            "\t espontá-\\n\\nneas > espontáneas\n",
            "\t indivi-\\n\\n\\ndualismo > individualismo\n"
          ],
          "name": "stdout"
        }
      ]
    },
    {
      "cell_type": "code",
      "metadata": {
        "id": "hmZPNytJdNK9"
      },
      "source": [
        "newdoc = remove_spaces(newdoc, save=True)"
      ],
      "execution_count": null,
      "outputs": []
    },
    {
      "cell_type": "code",
      "metadata": {
        "id": "ZPdG44GBdNK9"
      },
      "source": [
        "newdoc = remove_many_newlines(newdoc, save=True)"
      ],
      "execution_count": null,
      "outputs": []
    },
    {
      "cell_type": "code",
      "metadata": {
        "id": "eruobJ0WdNK-"
      },
      "source": [
        "newdoc = '\\n'.join([line.strip(' ') for line in newdoc.split('\\n') if (line!='') and (line!=' ')])"
      ],
      "execution_count": null,
      "outputs": []
    },
    {
      "cell_type": "code",
      "metadata": {
        "id": "sniv5YjVdNK-"
      },
      "source": [
        "newdoc = re.sub('\\s*<text-end>','.',newdoc)"
      ],
      "execution_count": null,
      "outputs": []
    },
    {
      "cell_type": "code",
      "metadata": {
        "id": "_yhUiFmsdNK-"
      },
      "source": [
        "with open('data/hayek/clean/15_clean_text.txt','w') as f:\n",
        "    f.write(newdoc)\n",
        "    f.close()"
      ],
      "execution_count": null,
      "outputs": []
    },
    {
      "cell_type": "code",
      "metadata": {
        "colab": {
          "base_uri": "https://localhost:8080/"
        },
        "id": "WkMWqoZhdNK-",
        "outputId": "2995883b-09a1-4986-8700-359bd18f75fa"
      },
      "source": [
        "with open('data/hayek/clean/14_many_newlines_removed.txt','r',encoding='utf-8') as f:\n",
        "    doc = f.read()\n",
        "print(doc)"
      ],
      "execution_count": null,
      "outputs": [
        {
          "output_type": "stream",
          "text": [
            "\n",
            " INDIVIDUALISMO:\n",
            " EL VERDADERO Y EL FALSO<footnote-*>\n",
            " Friedrich A. Haye \n",
            "\tHay en este ensayo un notable esfuerzo por precisar el significad de las palabras y los conceptos. Se encontrará en seguida un sistemático y esclarecedor paralelo entre dos tradiciones contrapuesta del pensamiento individualista, de naturaleza gradualista y conservadora una y constructivista y revolucionaria la otra. Hayek proporciona una sólida fundamentación del orden libertario desde el punt de vista filosófico, económico y social, enriqueciendo una vertient intelectual que, según él, alcanzó expresiones acabadas en las obra de John Locke, Bernard Mandeville, Josiah Tucker, Adam Ferguson,\n",
            "\tAdam Smith, Edmund Burke, Lord Acton y Alexis de Tocqueville.\n",
            "\tPieza fundamental de la renovación del pensamiento liberal, est trabajo, que fue expuesto hace casi cuarenta años, permite conoce uno de los hilos conductores de la trama intelectual de nuestro tiempo \n",
            "\tFRIEDRICH A. HAYEK. Premio Nobel de Economía 1974 y Presidente Honorari del Centro de Estudios Públicos. Esta revista ha publicado El Ideal Democrático y l Contención del Poder (Nº 1), La Teoría de los Fenómenos Complejos (Nº 2), Lo Fundamentos Eticos de una Sociedad Libre (Nº 3), Los Principios de un Orden Socia Liberal (Nº 6), La Solución Competitiva para el Socialismo (Nº 10) y El Uso de Conocimiento en la Sociedad (Nº 12) “Del siglo dieciocho y de la revolución, como una fuente común, surgieron do corrientes: la primera condujo a los hombres a las instituciones libres, en tanto qu la segunda los acercó al poder absoluto” Alexis de Tocquevill \n",
            "\tA poyar cualquier principio definido de orden social es, hoy e día, una manera casi segura de incurrir en el estigma de ser un doctrinari poco práctico. Se ha llegado a considerar un símbolo de criterio y juicio e hecho de no adherir a principios sólidos en materias sociales, sino qu resolver los problemas “según sus méritos”; este tipo de personas, generalmente, se deja guiar por conveniencias y está dispuesta a transar al mism tiempo, con tendencias opuestas entre sí. Sin embargo, los principios tiene una forma de imponerse aun cuando no sean explícitamente reconocidos sino que vayan implícitos en decisiones particulares o estén presentes sól en ideas vagas de lo que se está haciendo. Por esto ha llegado a ser frecuente que bajo la consigna de “ni individualismo ni socialismo” de hecho transitemos rápidamente de una sociedad de individuos libres a otra d carácter completamente colectivista.\n",
            "\tPropongo no sólo emprender la defensa de un principio general d organización social sino también intentar demostrar que la aversión a lo principios generales y la preferencia por resolver “caso a caso” es el producto de un movimiento que con la “inevitabilidad de la gradualidad” no lleva de vuelta, desde un orden social que descansa en el reconocimient general de ciertos principios, a un sistema cuyo ordenamiento es creado po medio de órdenes directas.\n",
            "\tLuego de la experiencia de los últimos treinta años, quizá ni siquier existe necesidad de enfatizar que sin principios vamos a la deriva. La actitu pragmática, que ha sido la dominante durante este período, lejos de incrementar nuestro control sobre los acontecimientos, nos ha conducido, d hecho, hacia una situación que nadie deseaba; y el único resultado d nuestra falta de preocupación por los principios es, al parecer, que estamo gobernados por medio de una lógica de acontecimientos que vanament intentamos ignorar. La interrogante de ahora ya no es saber si necesitamo principios rectores, sino si existe todavía un conjunto de principios adecuados de aplicación general, que pudiese servirnos de guía cuando lo deseemos. ¿Dónde podríamos aún hallar un conjunto de preceptos que constituyan una ayuda definitiva para la solución de los problemas de nuestr época? ¿Puede en algún lugar encontrarse alguna filosofía coherente qu no sólo nos proporcione aspiraciones morales sino también un método adecuado para alcanzarlas \n",
            "\tQue la religión en sí no nos da una ayuda suficiente en estas materias, está demostrado por los esfuerzos de la Iglesia para elaborar una filosofía social completa y por los resultados totalmente contradictorios a qu llegan quienes parten desde las bases cristianas comunes. Aun cuando, si lugar a dudas, la disminución de la influencia de la religión es un motiv importante de nuestra actual desorientación moral e intelectual, su renacimiento no disminuiría mucho la necesidad de principios de orden social d aceptación general. Seguiríamos requiriendo de una filosofía política qu vaya más allá de las normas fundamentales, pero generales que la religión la moral nos proporcionan.\n",
            "\tEl título que escogí para este capítulo demuestra que para mí aú parece existir dicha filosofía, entendida como un conjunto de principios que en realidad, están implícitos en la mayoría de las tradiciones políticas cristianas u occidentales y que ya no pueden ser descritas en forma inequívoc con cualquier término de fácil comprensión. Por lo tanto, es necesario volver a exponer estos principios en forma completa antes de decidir si aún so de utilidad como guías prácticas.\n",
            "\tLa dificultad que encontramos no radica solamente en la conocid ambigüedad de los términos políticos comunes o en que incluso un mism término signifique casi lo contrario para diferentes grupos. Mucho más serio es que una misma palabra una a personas que en realidad tienen entre s ideales irreconciliables y contradictorios. Términos como “liberalismo” “democracia”, “capitalismo” o “socialismo”, ya no simbolizan hoy sistema coherentes de ideas. Han llegado a describir conjuntos de principios y hechos completamente heterogéneos, que el accidente histórico ha asociad con estas palabras, pero que tienen muy poco en común, además de habe sido defendidas en diferentes épocas por la misma gente o incuso sólo baj el mismo nombre.\n",
            "\tEn este aspecto el término político “individualismo” es el que h sido más distorsionado. Por una parte ha sido distorsionado por sus oponentes como una caricatura irreconocible –y siempre debemos recordar qu los conceptos políticos que hoy están pasados de moda son conocidos po muchos de nuestros contemporáneos sólo a través de la figura que su enemigos hicieron de ellos– sino que también se han utilizado para describi diferentes actitudes hacia la sociedad, con tan poco en común entre sí com con aquellas actitudes tradicionalmente consideradas contrarias. En realidad, cuando estaba en la preparación de este artículo examiné algunas d las descripciones usuales de “individualismo” y casi comencé a lamentar e hecho de haber relacionado alguna vez los ideales en los que creo con u término del que se ha abusado tanto y que ha sido tan mal interpretado. D todas formas, cualquiera sea el significado de “individualismo” al margen d estos ideales, existen dos buenas razones para seguir utilizando el términ en la causa que quiero defender; esta causa ha sido conocida siempre po ese término, sea el que fuere su significado en diferentes épocas, y est término tiene la distinción de haber influido en que la palabra “socialismo”\n",
            "fuera acuñada deliberadamente para expresar su oposición a él.<footnote-1> Me ocuparé de este sistema que proporciona la alternativa al socialismo.\n",
            "\tAntes de explicar lo que quiero decir por verdadero individualismo sería conveniente adelantar algo sobre la tradición intelectual a la que pertenece.\n",
            "\tEl verdadero individualismo, que es el que procuraré defender comenzó su desarrollo moderno con John Locke, y particularmente con Bernard Mandeville y David Hume, y alcanzó verdadera relevancia por primer vez en el trabajo de Josiah Tucker, Adam Ferguson y Adam Smith y tambié en la labor de su gran contemporáneo Edmund Burke, el hombre a quie Smith describió como la única persona que conoció con un pensamient igual al suyo en materias económicas, sin que hubiera comunicación previ alguna entre ambos.<footnote-2> En mi opinión, el individualismo fue representado e su forma más perfecta durante el siglo XIX en el trabajo de dos de su grandes historiadores y filósofos políticos: Alexis de Tocqueville y Lor Acton. Pienso que estos dos hombres han tenido más éxito en desarrollar l mejor de la filosofía política de los pensadores escoceses, de Burke y de lo Whigs ingleses, que cualquiera de los otros escritores que conozco; e cambio, los economistas del siglo XIX, o por lo menos los seguidores d Bentham o filósofos radicales, se vieron cada vez más influenciados po otro tipo de individualismo de distinto origen.\n",
            "\tEsta segunda corriente de pensamientos, absolutamente diferente también conocida como individualismo, está representada principalment por pensadores franceses y europeos, un hecho que se debe –a mi entender– al papel predominante que tiene el racionalismo cartesiano en su composición. Los representantes más sobresalientes de esta tradición son lo enciclopedistas, Rousseau y los fisiócratas; y, por razones que debemo considerar de inmediato, este individualismo racionalista tiende siempre un desarrollo opuesto al señalado, específicamente hacia el socialismo colectivismo. Debido a que sólo el primer tipo de individualismo es coherente, exijo que se le dé el nombre de tal; en cuanto al segundo tipo, probablemente debe ser considerado como una fuente del socialismo moderno, ta importante como las teorías colectivistas propiamente tales.<footnote-3>\n",
            "\tNo puedo dar mejor ejemplo de la prevaleciente confusión sobre e significado del término individualismo que el de quien, a mi entender, parec ser uno de los más importantes representantes del verdadero individualismo, Edmund Burke, sea comúnmente (y en forma correcta) conocido com el principal oponente del así llamado “individualismo de Rousseau”.\n",
            "\tBurke temió que las teorías de Rousseau disolvieran rápidamente l comunidad hasta dejar sólo “polvo y cenizas de la individualidad”.<footnote-4>\n",
            "\tEs también revelador de dicha confusión que el mismo término individualismo fuera por primera vez incorporado al idioma inglés a través de l traducción de uno de los trabajos de otro de los grandes representantes de verdadero individualismo. De Tocqueville, quien lo utiliza en su Democracia en América para describir una actitud que deplora y rechaza.<footnote-5> Aun así no hay duda de que Burke y De Tocqueville están de acuerdo en todos lo planteamientos fundamentales con Adam Smith, a quien nadie puede negarle el título de individualista, y que el individualismo al cual ellos se opone es algo totalmente diferente al de Smith ¿Cuáles son entonces las características esenciales de verdadero individualismo? Lo primero que debe señalarse es que se trata primordialmente de una teoría de la sociedad. E individualismo verdadero es un intent por conocer las fuerzas que determinan la vida social del hombre y, sólo e segunda instancia, un conjunto de máximas políticas derivadas de est perspectiva de la sociedad. Este hecho por sí solo debería ser suficient para refutar el más absurdo de los malentendidos comunes: la creencia d que el individualismo postula (o basa sus argumentos sobre el supuesto de la existencia de individuos autónomos y aislados, en lugar de entender qu el carácter y la naturaleza de los hombres están determinados por su existencia en sociedad.<footnote-6> Si eso fuese efectivo, en realidad no tendría nada co que contribuir a nuestro entendimiento de la sociedad. Pero su argument básico es bastante diferente: no hay otra forma para llegar a una comprensión de los fenómenos sociales si no es a través de nuestro entendimient de las acciones individuales dirigidas hacia otras personas y guiadas por u comportamiento esperado.<footnote-7> Este argumento está dirigido primordialment contra las teorías propiamente colectivistas de la sociedad, que pretende ser directamente capaces de considerar a los conjuntos sociales, como l sociedad, y otras en cuanto entidades “sui generis” que existen en form independiente de los individuos que las componen. El paso siguiente en e en inglés y explica que “no conoce ninguna palabra inglesa exactamente equivalente esta expresión”. Como lo señaló A. Schatz en el libro que se menciona más adelante, e uso que le da De Tocqueville al término ya establecido en francés, en este particula sentido, es completamente arbitrario y conduce a una seria confusión en el real significado de él análisis individualista de la sociedad está dirigido hacia el pseudoindividualismo, que también lleva hacia el colectivismo práctico.\n",
            "\tEl punto es que al delinear los efectos combinados de las accione individuales se pone de manifiesto que muchas de las instituciones en la cuales descansan los logros humanos están funcionando sin una ment que las dirija y las diseñe. Según lo expresó Adam Ferguson, “las nacione tropiezan accidentalmente con las instituciones, que en realidad son el resultado de la acción humana y no el resultado del designio humano”. 8 L colaboración espontánea de los hombres libres a menudo crea cosas qu son más grandiosas de lo que sus mentes en forma individual pueden llega a abarcar por completo. Este es el gran tema de Josiah Tucker y Ada Smith, de Adam Ferguson y Edmund Burke, el gran descubrimiento de l economía política que se ha convertido en la base de nuestra comprensió no sólo de la vida económica sino de la mayoría de los fenómenos propiamente sociales.\n",
            "\tLa diferencia entre esta perspectiva, que explica gran parte del orde que encontramos en los asuntos humanos, como el resultado imprevisto d las acciones individuales, y la tendencia que atribuye todo el orden que s observa a un plan deliberado, es el primer gran contraste entre el verdader individualismo de los pensadores británicos del siglo XVIII y el llamad “individualismo” de la escuela cartesiana.<footnote-9> Pero es solamente un aspecto d una diferencia aun mayor entre la perspectiva que, en general, asigna un pape más bien menor a la razón en los asuntos humanos, y sostiene que el hombr ha logrado lo que tiene a pesar de guiarse sólo muy parcialmente por la razón y que su razón individual es harto limitada e imperfecta, perspectiva ante l cual se opone la tendencia que es proclive a creer que la Razón con mayúscula es siempre total e igualmente asequible a todos los humanos y qu cuanto el hombre logre es resultado directo y está condicionado por el contro de la razón individual. Incluso se puede decir que la primera posición es e producto de un agudo conocimiento de las limitaciones de la mente individual, que induce a una actitud de humildad hacia los procesos sociale anónimos e impersonales, mediante los cuales los individuos ayudan a crea cosas mayores que las conocidas, mientras que la última, es el producto d una confianza exagerada en los poderes de la razón individual y de u desprecio consecuente hacia todo lo que no ha sido ideado conscientement por ella o que no le sea completamente comprensible.\n",
            "\tEl planteamiento antirracionalista, que no considera al hombre com un ser inteligente y racional sino como un ser irracional y falible, cuyo errores individuales son corregidos sólo en el curso de un proceso social, que aspira a sacar la máxima utilidad de un material muy imperfecto, e probablemente la peculiaridad más característica del individualismo inglés A mi entender, su predominio en el pensamiento británico se debe principalmente a la profunda influencia ejercida por Bernard Mandeville, quien fue e primero en formular la idea central en forma clara.<footnote-10>\n",
            "\tNo puedo ilustrar de mejor manera el contraste con el “individualismo” racionalista o cartesiano, que citando un pasaje famoso de la II Part del Discurso del Método. Descartes sostiene: “Rara vez hay tanta perfección en obras que se componen de varias partes separadas y en las cuale se emplearon diferentes manos, como la que existe en aquellas realizada por un solo maestro”. Luego sugiere (después de citar, significativamente el ejemplo de un ingeniero dibujando sus planos) que “aquellas nacione que, comenzando de un estado semibárbaro y avanzando hacia la civilización a paso lento, han fijado sus leyes en forma sucesiva y, según s aprecia, las han puesto en práctica tan sólo movidas por la dolorosa experiencia de disputas y delitos específicos, han contado en este proceso co instituciones menos perfectas que aquellas que, desde el comienzo de s asociación como comunidades, dispusieron de leyes formuladas por algú legislador sabio”. Y para iluminar este punto, Descartes agrega que en s opinión “la pasada preeminencia de Esparta no se debía a la preeminenci de cada una de sus leyes en particular..., sino a la circunstancia de que creadas por un solo individuo, todas tendían a un solo fin”.<footnote-11>\n",
            "\tSería interesante investigar más adelante el desarrollo de este individualismo del contrato social o las teorías “estructurales” de las instituciones sociales, desde Descartes pasando por Rousseau y la Revolución Francesa hasta lo que todavía es la actitud característica de los ingenieros sociales.<footnote-12> Dicho esquema demostraría cómo el racionalismo cartesiano constantemente ha probado ser un serio obstáculo para la comprensión de lo fenómenos históricos y que es el principal responsable de la creencia en la leyes ineludibles del desarrollo histórico y del fatalismo moderno derivad de esta creencia.<footnote-13>\n",
            "\tSin embargo, todo lo que aquí nos preocupa es que este punto d vista, aun cuando también es conocido como “individualismo”, contrast completamente con el verdadero individualismo en dos puntos decisivos Mientras que es perfectamente verdadero respecto de este pseudoindividualismo que “la creencia en productos sociales espontáneos era lógicamente imposible para cualquier filósofo que contemplara al ser humano individual como el punto inicial y lo supiera formador de sociedades mediante l unión de su voluntad específica con otro en un contrato formal”, 14 el verdadero individualismo es la única teoría que puede hacer inteligibles los productos sociales espontáneos. Y, mientras las teorías estructurales conducen necesariamente hacia la conclusión de que los productos sociale pueden ser hechos para servir a los propósitos humanos solamente si está sujetos al control de la razón humana individual, conduciendo de esta form directamente al socialismo, el verdadero individualismo sostiene que, si s les deja libres, los hombres lograrán con mayor frecuencia más de lo que l razón humana individual pudiera idear o prever.\n",
            "\tEste contraste entre el individualismo verdadero y antirracionalista el falso y racionalista, impregna todo el pensamiento social. Pero debido que ambas teorías han llegado a ser conocidas por el mismo nombre, y e parte porque los economistas clásicos del siglo XIX, particularmente Joh Stuart Mill y Herbert Spencer, se vieron casi tan influenciados por la tradición francesa como por la tradición inglesa, toda clase de conceptos supuestos completamente ajenos al verdadero individualismo han llegado ser considerados como partes esenciales de su doctrina \n",
            "\tQuizá la mejor ilustración de las malas interpretaciones del individualismo de Adam Smith y su grupo sea la creencia común que ellos inventaro el fantasma del “hombre económico” y que sus conclusiones están viciada por su suposición de un comportamiento estrictamente racional o generalmente por una falsa sicología racionalista. Por supuesto estuvieron lejos d suponer algo por el estilo. Más cercano a la verdad sería decir que desde s perspectiva el hombre era por naturaleza flojo e indolente, poco previsor derrochador y que, sólo porque se vio obligado por las circunstancias logró actuar en forma económica y cuidadosa para ajustar sus medios a su fines. Pero incluso esto sería injusto para la perspectiva compleja y realist que tenían aquellos hombres de la naturaleza humana. Debido a que se h hecho costumbre ridiculizar a Smith y a sus contemporáneos por su psicología supuestamente errónea, quizá podría aventurar mi opinión: pienso qu para todos los efectos prácticos aún se puede aprender más sobre el comportamiento de los hombres en La Riqueza de las Naciones que en la mayoría de los más pretensiosos tratados modernos sobre “sicología social”.\n",
            "\tCon todo, casi no hay duda de que la principal preocupación de Smit no era tanto lo que el hombre eventualmente pudiera lograr con lo mejor de sí sino darle la oportunidad de realizar el mínimo daño con lo peor de sí. N resulta exagerado sostener que el mérito principal del individualismo que él sus contemporáneos defendieron, radica en que es un sistema en el cual lo hombres malos pueden provocar un mínimo daño. Es un sistema social que n depende para su funcionamiento de encontrar hombres buenos para ponerl en marcha, ni de que todos los hombres sean mejores de lo que son ahora sino que hace uso de todos los hombres en toda su complejidad y variedad que a veces es mala y a veces buena, a veces inteligente y a menudo hast estúpida. Su meta era un sistema en el que fuera posible alcanzar la liberta para todos, en lugar de restringirla, como lo deseaban sus contemporáneo franceses, a “los buenos y sabios”.<footnote-15>\n",
            "\tLa preocupación principal de los grandes pensadores individualista fue en realidad encontrar un conjunto de instituciones mediante las cuale el hombre podría verse estimulado, por decisión propia y a partir de lo motivos que determinan su conducta común, a contribuir en todo lo posibl para satisfacer las necesidades de los demás. Descubrieron que el sistem de propiedad privada daba dichos estímulos en un mayor grado de lo qu hasta ese momento se había supuesto. Sin embargo, no sostenían que est sistema fuera incapaz de evolucionar, y menos aún, tal como aparece en otr de las distorsiones comunes de sus argumentos, que existía una “armoní natural de intereses” al margen de instituciones concretas. No sólo estaba preocupados por los conflictos de los intereses individuales sino ademá enfatizaron la necesidad de “instituciones bien construidas” donde las “reglas y principios de los intereses en pugna y de las ventajas comprometidas”16 reconciliarían los intereses en conflicto sin dar poder a ningún grup en especial para hacer prevalecer de esta forma sus intereses e ideas po sobre los de los demás Hay un punto en estas presunciones sicológicas básicas que d alguna forma es necesario considerar de manera más completa. Como s cree que el individualismo aprueba y estimula el egoísmo humano, esto hac Respecto de todo este tema, consultar Elie Halévy, The Growth of Philosophi Radicalism (1928), esp. pp. 266-70 También se destaca el contraste de los filósofos escoceses del siglo XVIII co sus contemporáneos franceses en el estudio de Gladys Bryson, Man and Society: Th Scottish Enquiry of the Eighteenth Century (Princeton, 1945), p. 145. Ella enfatiza qu ‘todos los filósofos escoceses querían escapar del racionalismo cartesiano, con su énfasi en el intelectualismo abstracto y sus ideas innatas”, y repetidamente da énfasis a la tendencias antindividualistas de David Hume (pp. 106, 155), utilizando el términ “individualista” en lo que aquí llamamos el falso sentido racionalista. Pero ocasionalmente ella vuelve a caer en el error común de considerarlos como “representativos típicos del pensamiento del siglo” (p. 176). Aun existe mucha inclinación, principalmente como resultado de la aceptación del concepto germano de Iluminismo, a considerar las ideas de los filósofos del siglo XVIII como similares, mientras que en mucho aspectos las diferencias entre los filósofos franceses e ingleses del período son much más acentuadas que sus similitudes. La costumbre común de englobar a Quesnay y Ada Smith, a causa de la antigua creencia de que Smith estaba muy en deuda con lo fisiócratas, seguramente tendría que terminar, especialmente luego de probarse su falsedad en los recientes descubrimientos de W. R. Scott. (Consultar su obra Adam Smith a Student and Professor (Glasgow, 1937), p. 124). También es importante que se hay consignado que tanto Hume como Smith fueron estimulados en su trabajo por la oposición a Montesquieu. Se puede encontrar algún análisis de interés sobre las diferencia entre los filósofos sociales franceses y británicos del siglo XVIII, aunque un poc distorsionado por la hostilidad del autor para con el “liberalismo económico” de lo primeros, en la obra de Rudolf Goldscheid, Grundlinien zu einer Kritik der Willenskraf (Viena, 1905), pp. 32-37 \n",
            "que mucha gente no lo acepte y debido a que esta confusión es provocad por una verdadera dificultad intelectual, debemos examinar cuidadosament el significado de tales presunciones. Por supuesto, no puede haber duda d que en el lenguaje de los grandes pensadores del siglo XVIII el “amor a s mismo” del hombre, o incluso sus “intereses egoístas”, representaba alg así como el “motor universal”. Estos términos se referían principalmente una actitud moral que, pensaron, prevalecería ampliamente. Sin embargo estos términos no significaban egoísmo en el sentido restringido de preocupación exclusiva por las necesidades inmediatas de uno mismo. El “ego”\n",
            "por el que supuestamente las personas debían preocuparse claramente incluía a la familia y a los amigos. Ninguna diferencia significaba respecto de argumento habría si se hubiera hecho extensivo a todo aquello por lo cual l gente de hecho se preocupa.\n",
            "\tMucho más importante que esta actitud moral, que podía ser considerada como variable, es el hecho intelectual irrefutable que nadie pued esperar cambiar y que es, por sí mismo, una base suficiente para las conclusiones a que llegan los filósofos individualistas. Me refiero a la limitació constitutiva de los intereses y conocimientos del hombre. En efecto, nadi puede llegar a conocer más que una minúscula porción de la sociedad y po lo tanto todo lo que puede ser incluido en sus motivaciones son los efecto inmediatos de sus actos en el ámbito que le es conocido. Las diferencias e las actitudes morales de los hombres son pocas, tienen poca importanci para la organización social, comparadas con lo que la mente de todos lo hombres puede efectivamente comprender. El hombre, sea completament egoísta o el más perfecto altruista, es el centro de un reducido círculo, y la necesidades humanas por las que él “puede” efectivamente preocupars son una cantidad insignificante de las necesidades de todos los miembro de la sociedad. Por lo tanto, la verdadera interrogante no es que el hombr sea, o deba ser, guiado por motivos egoístas sino que le permitamos orientar sus acciones midiendo las consecuencias inmediatas que él conoce y l interesen o bien que se le imponga hacer lo que parezca apropiado a quienes presumen comprender mejor la importancia de estas acciones para l sociedad.\n",
            "\tA la tradición cristiana aceptada que dice que el hombre debe se libre para seguir “su” conciencia en materias morales si sus acciones han d tener algún mérito, los economistas agregaron que debe ser libre para hace uso completo de “sus” conocimientos y capacidad; que se le debe permiti tomar decisiones guiado por su preocupación sobre las cosas precisas qu “él” conoce y por las que se preocupa, si se espera que haga una gra contribución a los propósitos comunes de la sociedad, tal como es él capa de hacerlo. El problema principal que tuvieron fue ponderar cómo esta preocupaciones limitadas, que de hecho determinan las acciones de la gente, pueden convertirse en alicientes efectivos para contribuir voluntariamente en todo lo posible a satisfacer las necesidades situadas fuera de s campo de visión. Lo que los economistas entendieron por primera vez fu que el crecimiento del mercado era una manera efectiva de hacer al hombr partícipe de un proceso más complejo y extenso de lo que él podía comprender, y que a través del mercado se le hacía contribuir a “fines que no era parte de su propósito”.\n",
            "\tEra casi inevitable que los autores clásicos, al explicar su punto d vista, utilizaran un lenguaje que estaba destinado a ser malentendido y qu por esto se ganaran la reputación de haber exaltado el egoísmo. Rápidamente descubrimos la razón cuando tratamos de volver a exponer el argument correcto en un lenguaje simple. Si lo expresamos en forma concisa, diciend que la gente es o debe ser guiada en sus acciones por “sus” deseos intereses, esto será inmediatamente malentendido o distorsionado, como e argumento falso que dice que la gente es o debiera ser guiada exclusivamente por sus necesidades personales o por intereses egoístas, cuando l que queremos decir es que se les debiera permitir luchar por lo que ello estimen bueno.\n",
            "\tOtra frase engañosa, utilizada para acentuar un punto importante, e la famosa presunción de que cada hombre conoce mejor sus intereses. As planteado, ello no es razonable ni necesario para las conclusiones del individualista. La base del argumento correcto es que nadie puede sabe “quién” tiene el mejor conocimiento en cuestión y que la única forma en qu podemos averiguarlo es a través de un proceso social en que todos pueda averiguar lo que pueden hacer. La suposición fundamental, aquí como e cualquier otro lugar, es la variedad ilimitada de talentos y habilidades humanas y la consecuente ignorancia de cualquier individuo de todo lo que e conocido para todos los otros miembros de la sociedad considerados e conjunto. O, para exponer este argumento fundamental en forma diferente la Razón humana, con R mayúscula, no existe en el individuo como do disponible para una persona en particular según parece suponerlo el enfoque racionalista, sino que debe ser concebida como un proceso interpersonal en que la contribución de cualquiera es probada y corregida por otros Este argumento no supone que todos los hombres sean iguales en su talentos y capacidades naturales, sino solamente que ningún hombre est calificado para dictar el juicio definitivo respecto de las capacidades qu otro posea o se le deba permitir utilizar.\n",
            "\tAquí quizá puedo mencionar que sólo porque los hombres son hecho desiguales los podemos tratar con igualdad. Si todos los hombres fueran completamente iguales, en sus talentos e inclinaciones, deberíamos tratarlos en forma diferente para conseguir cualquier tipo de organización social. Afortunadamente no son iguales; y es sólo debido a esto que l diferenciación de funciones no necesita ser determinada por la decisió arbitraria de alguna voluntad organizadora sino que, después de crear un igualdad formal de las reglas aplicables de la misma manera a todos, cad individuo encuentra su propio nivel.\n",
            "\tExiste una enorme diferencia entre tratar a la gente con igualdad intentar igualarlos. Mientras que lo primero es la condición de una socieda libre, lo segundo significa, como lo describe De Tocqueville, “una nuev forma de esclavitud”.<footnote-17>\n",
            "\tA partir del conocimiento de las limitaciones del saber individual dado que ninguna persona o grupo pequeño de personas pueden conoce todo lo que es conocido por alguien, el individualismo deduce también s principal conclusión práctica: la exigencia de una estricta limitación de tod poder coercitivo o exclusivo. Sin embargo, la oposición está dirigida sólo e contra de la utilización de la “coerción” que origina la organización o asociación, y no contra la asociación como tal. Lejos de oponerse a la asociación voluntaria, el caso del individualista descansa, por el contrario, en qu mucho de lo que en opinión de la mayoría puede ser originado sólo mediante la dirección consciente, puede ser mejor logrado a través de la colaboración voluntaria y espontánea de los individuos. Por esto, el individualist coherente debería ser un entusiasta de la colaboración voluntaria, siempre cuando esto esto no signifique la coerción de otros o conduzca a la investidura de poderes exclusivos.\n",
            "\tPor supuesto, el verdadero individualismo no es anarquismo, el qu sólo es otro producto del pseudoindividualismo racionalista, a cual se opone. No niega la necesidad del poder coercitivo pero pretende limitarlo, limitarlo a aquellos campos en donde es indispensable prevenir la coerción po otros y en orden a reducir el total de coerción a un mínimo. A pesar de qu todos los filósofos individualistas probablemente concuerdan en estas reglas generales, se debe admitir que ellas no siempre son suficientes para s aplicación a casos específicos. No son de gran ayuda la muy mal usada mal entendida frase “laissez faire”, ni la fórmula aún más antigua de “l protección de la vida, libertad y propiedad”. De hecho, en cuanto amba tienden a sugerir que dejemos las cosas tal como están, pueden ser peo que la inexistencia de una respuesta; sin duda no delimitan los campo deseables o necesarios de actividad gubernamental. Sin embargo, la decisión acerca de si la filosofía individualista puede servirnos como una guí práctica debe depender, por último, de saber si nos permitirá distinguir entr lo que debe y lo que no debe hacer el gobierno.\n",
            "\tAlgunas reglas generales de este tipo, las cuales son aplicables ampliamente, me parece se desprenden directamente de los principios básico del individualismo: Si cada hombre va a utilizar su peculiar conocimiento habilidad para lograr sus objetivos, y si, al hacer esto, va a efectuar un contribución lo más extensa posible para satisfacer las necesidades situadas más allá de su alcance, es necesario, primero, que él tenga una área d responsabilidad claramente delimitada y, segundo, que para él la importancia relativa de los distintos resultados que pueda lograr, correspondan a l importancia relativa que para otros tengan los efectos remotos y desconocidos de su acción.\n",
            "\tAnalicemos primero el problema de la determinación de una esfera d responsabilidad y dejemos el segundo problema para después. Si el hombr tiene que ser libre para hacer completo uso de su conocimiento o habilidad la delimitación de las esferas de responsabilidad no debe tomar la forma d un traspaso de fines particulares que él debe lograr. Esto sería posible imponiendo un deber específico y no delimitando una esfera de responsabilidad Tampoco debe tomar la forma de asignarle recursos específicos seleccionados por alguna autoridad, lo que quitaría la opción de sus manos casi tant como la imposición de tareas específicas. Si el hombre tiene que ejercer su propias facultades, debe ser como resultado de sus actividades y cuidand que su esfera de responsabilidad esté determinada. La solución a este problema, el cual ha sido desarrollado gradualmente y que precede al gobiern en el moderno sentido de la palabra, radica en la aceptación de principio formales, de “una norma fija para vivir, común a todos y cada uno de lo miembros de esa sociedad”,18 de reglas en las cuales, por sobre todo, s permita al hombre distinguir entre mío y tuyo, para que tanto él como su congéneres puedan averiguar cuál es la esfera de responsabilidad de cad uno \n",
            "\tEl importante contraste que hay entre un gobernar por reglas, cuy principal propósito es informar al individuo acerca de cuál es la esfera d responsabilidad, dentro de la cual debe planear su propia vida, y un gobernar por órdenes, que impone deberes específicos, se ha tornado tan confuso en daños recientes que es necesario analizarlo un poco más. El contrast envuelve nada menos que la distinción entre la libertad bajo la ley y l utilización de la maquinaria legislativa, sea o no democrática, para abolir l libertad. El punto esencial no es si debiera haber algún tipo de principi guía detrás de las acciones del gobierno, sino que el gobierno debe se limitado, y obligar a los individuos a observar principios que ellos conoce y pueden tomar en cuenta en sus decisiones. Significa, además, que lo qu el individuo puede o no hacer, o lo que puede esperar que hagan o no su congéneres, no debe depender de ciertas consecuencias remotas e indirectas de sus actos, sino de los resultados inmediatos y fácilmente reconocibles que –se supone– él conoce. El individuo debe tener normas que s refieran a situaciones típicas, definidas en términos conocidos por las personas involucradas y sin atender a efectos distantes de la instancia particular. Tales normas, si se observan regularmente, la mayoría de las vece actuarán de manera beneficiosa, aunque lo hagan en las conocidas excepciones o “casos difíciles que hacen mala a cualquier ley”.\n",
            "\tEl principio más general sobre el cual se basa un sistema individualista es que utiliza la aceptación universal de principios generales como e medio para poner orden en los asuntos sociales. Es lo contrario de u gobierno que se rige por principios. Por ejemplo, un plan reciente para un economía controlada establece como “principio fundamental de su organización... que, en cualquier instancia particular, el medio que mejor sirve a l sociedad debe ser el que prevalezca”.<footnote-19> Por esto, es una grave confusió hablar de principios cuando todo lo que se quiere decir es que no son ésto los que deben regir, sino la aplicación expedita de lo que la autoridad decrete que sean “los intereses de la sociedad”. Los principios son un medi para prevenir discordias entre intereses conflictivos, y no un conjunto d propósitos fijados. Nuestra obediencia a principios generales es necesari porque no podemos guiar nuestras acciones por medio del conocimient total y la evaluación de todas las consecuencias. Mientras los hombres n sean omniscientes, el único modo de poder dar libertad al individuo e mediante dichas reglas generales que delimitan la esfera de su propia decisión. No puede haber libertad si el gobierno no se limita a tipos de acció particulares, pero puede, por el contrario, utilizar sus poderes en cualquie forma que sirva a objetivos particulares. Como lo señalara Lord Acton tiempo atrás: “Cuando un solo objetivo definido se convierte en el fin suprem del Estado, sea la ventaja de una clase, la seguridad o el poder del país, l felicidad de la mayoría o el apoyo a alguna idea especulativa, el Estado lleg a ser, con el tiempo, inevitablemente absoluto”.<footnote-20>\n",
            "\tPero si nuestra principal conclusión es que un orden individualist debe descansar en la vigencia de principios abstractos y no en la imposición de órdenes específicos, esto aun deja abierta la interrogante acerca de tipo de normas generales que deseamos. Semejante orden limita el ejercici de poderes coercitivos principalmente a un método, pero aún permite u campo de acción casi ilimitado para que el ingenio humano diseñe el má efectivo conjunto de normas; y, aunque las mejores soluciones a los problemas concretos en la mayoría de los casos tendrán que ser descubiertas po experiencia, hay mucho más que podemos aprender de los principios generales del individualismo con respecto a la naturaleza y los contenidos deseables de tales normas. Hay, en primera instancia, un importante corolari de lo que ya se ha dicho:\n",
            "\tLas normas, que están para servir como guías a los individuos e sus propios planes, deberían ser concebidas para regir por períodos largos Las políticas liberales o individualistas deben ser esencialmente políticas largo plazo; el estilo actual de concentrarse en los efectos a corto plazo, de justificar esto mediante el argumento que “a la larga todos estaremo muertos”, conduce inevitablemente a confiar en órdenes ajustados a la circunstancias del momento, y no a normas previstas en términos de situaciones típicas.\n",
            "\tSin embargo, necesitamos y obtenemos de los principios básicos de individualismo una ayuda mucho más definida que ésta para la construcción de un sistema jurídico adecuado. La tentativa de hacer que el hombre mediante la búsqueda de sus intereses, contribuya tanto como sea posible las necesidades de otros hombres, lleva no sólo al principio general d “propiedad privada”; también nos ayuda a determinar cuáles deberían se los contenidos de los derechos de propiedad en relación a diferentes tipo de cosas. Para que el individuo tome sus decisiones considerando todo los efectos físicos provocados por su conducta, es necesario que la “esfer de responsabilidad”, de la que hemos estado hablando, comprenda tan plenamente como sea posible los efectos directos que tienen sus acciones e beneficio de otra gente y que deriva de las cosas bajo su control. Esto s logra mediante la simple concepción de la propiedad como el derecho exclusivo a utilizar una cosa específica y donde los efectos móviles, lo que lo abogados llaman “bienes muebles”, están involucrados. Pero suscita problemas mucho más difíciles con relación a la tierra, dado que el reconocimiento del principio de propiedad privada nos ayuda muy poco a saber co precisión qué derechos y obligaciones incluye el título de propiedad. cuando observamos problemas de más reciente origen, tales como el contro del aire o de la energía eléctrica, o de las invenciones y de las creacione artísticas o literarias, sólo la vuelta a la “razón fundamental” de la propieda nos ayudará a decidir cuál deberá ser, en la instancia particular, la esfera d control o responsabilidad del individuo.\n",
            "\tNo puedo seguir analizando más el fascinante tema de una estructura legal adecuada para un sistema individualista efectivo, ni entrar en l discusión acerca de las numerosas funciones suplementarias que le caben tales como la asistencia en la difusión de información y en la eliminación d la incertidumbre, verdaderamente evitable,21 mediante la cual el gobiern puede aumentar en gran medida la eficiencia de la acción individual. La menciono tan sólo para enfatizar que existen funciones de gobierno (¡y n coercitivas!) además de la simple ejecución de las leyes civiles y criminales que pueden justificarse completamente en el marco de principios individualistas.\n",
            "\tSin embargo, aun queda un punto por tratar, al cual ya me he referido, pero es tan importante que debo prestarle un poco más de atención. S trata de que cualquier orden individualista viable debe estructurarse no sól de forma que las remuneraciones relativas que el individuo puede espera de los diferentes usos de sus habilidades y recursos correspondan a l utilidad relativa del resultado de sus esfuerzos para otros, sino también qu estas remuneraciones correspondan a los resultados objetivos de su esfuerzo y no a méritos subjetivos. Un mercado efectivamente competitivo satisface estas dos condiciones. Pero es con respecto a la segunda que nuestr personal sentido de la justicia se rebela tan frecuentemente contra las decisiones impersonales del mercado. Sin embargo, si el individuo tiene que se libre para elegir, es inevitable que deba correr el riesgo que implica dich elección y que, en consecuencia, sea recompensada no de acuerdo a l bueno o malo de sus intenciones, sino exclusivamente en función del valo de los resultados para los demás. Debemos enfrentar el hecho de que l libertad individual es incompatible con una total satisfacción de nuestro propósitos de justicia distributiva.\n",
            "\tDe este modo, mientras la teoría del individualismo tiene una contribución definida que hacer a la técnica para construir una estructura lega adecuada y para mejorar las instituciones que han crecido de manera espontánea, su énfasis, por supuesto, está en que la parte de nuestro orden socia que pueda o debiera constituir un producto consciente de la razón humana sea sólo una pequeña parte de todas las fuerzas de la sociedad. En otra palabras, que el Estado, la incorporación de poder dirigido conscientement y organizado deliberadamente, sea sólo una pequeña parte del organism mucho más rico que llamamos “sociedad”. El Estado debería proporciona solamente una estructura en la cual la libre colaboración de los hombres ( por esto no “dirigida conscientemente”) tenga el máximo de campo.\n",
            "\tEsto acarrea algunas consecuencias en las que el verdadero individualismo se mantiene una vez más en aguda oposición con el falso individualismo del tipo racionalista. La primera es que el Estado como organización deliberada, por una parte, y el individuo por la otra, no so considerados como las únicas realidades. En cambio, toda la estructura d asociaciones intermedias debía suprimirse deliberadamente, según la intención de la Revolución Francesa. El verdadero individualismo deja ampli espacio a las convenciones de vínculo social no coercitivo, que son consideradas como factores esenciales para preservar el funcionamiento ordenado de la sociedad humana. La segunda es que el individuo, al participar e los procesos sociales, debe estar alerta y dispuesto a ajustarse a sí mismo los cambios y someterse a convenciones que no son el resultado de idea inteligibles, cuya justificación en la instancia particular puede no ser reconocible, y la cual a menudo le pareciera ininteligible e irracional.\n",
            "\tNo necesito decir mucho acerca del primer punto. Que el verdader individualismo afirma el valor de la familia y todos los esfuerzos comunes d la pequeña comunidad y grupo, que cree en la autonomía local y en la asociaciones voluntarias, y que verdaderamente descansa en el argument de que gran parte de la acción coercitiva del Estado puede llevarse a cabo en mejor forma, mediante una colaboración voluntaria más acentuada. E esto no puede haber mayor contraste con el falso individualismo, que dese disolver todos estos grupos pequeños en átomos sin más cohesión que la normas coercitivas impuestas por el Estado, convirtiendo todos los lazo sociales en relaciones prescriptivas; en vez de utilizar al Estado principalmente como una protección del individuo contra los poderes coercitivos d grupos más pequeños.\n",
            "\tTan importantes para el funcionamiento de una sociedad individualista son estos grupos más pequeños de hombres, como las tradiciones convenciones que se desarrollan en una sociedad libre y que, sin ser leyes establecen normas flexibles que son observadas normalmente, y que permiten predecir con mucha facilidad la conducta de otra gente. La volunta para someterse a dichas normas, no sólo mientras uno entienda la razó para ello, sino mientras uno no tenga razones definidas para transgredirlas es una condición esencial para la evolución gradual y el mejoramiento de la normas de vínculo social. La prontitud para someterse a los resultados d un proceso social que nadie ha ideado y cuyas razones nadie puede entender, también son condición indispensable para materializar la posibilidad d eliminar la coacción.<footnote-22> Que la existencia de convenciones y tradiciones comunes entre un grupo permitirá a la gente trabajar juntas tranquila y eficientemente, con mucho menos organización formal y coacción que un grup sin tales lazos es, por supuesto, un lugar común. Pero lo contrario de esto aunque menos familiar, probablemente no es menos verdadero: que la coerción sólo puede probablemente mantenerse a un mínimo en una sociedad e donde las convenciones y la tradición hayan hecho que el comportamient del hombre sea en gran medida pronosticable.<footnote-23>\n",
            " \n",
            "\tEsto me lleva a mi segundo punto: En una sociedad compleja, dond los efectos de la acción de cualquiera van más allá de su posible rango d visión, el individuo tiene la necesidad de someterse a las fuerzas anónima y aparentemente irracionales de esa sociedad. Tal sometimiento debe inclui no sólo la aceptación de las reglas de conducta válidas, sino también un disposición para ajustarse a cambios que pueden afectar profundamente s fortuna y oportunidades, por causas que le pueden ser completamente incomprensibles. Es contra éstas que el hombre moderno tiende a rebelarse, menos que su necesidad pueda demostrar que descansa sobre “la razó esclarecida y demostrable a cada individuo”. Sin embargo, es justament aquí que el anhelo natural de claridad produce exigencias ilusorias que ningún sistema puede satisfacer. El hombre dentro de una sociedad complej sólo puede tener opción entre ajustarse a lo que le deben parecer las fuerza ciegas del proceso social o, por el contrario, obedecer las órdenes de u superior. Mientras conozca sólo la dura disciplina del mercado, bien pued encontrar preferible ser dirigido por algún otro cerebro humano inteligente pero, cuando lo intenta, pronto descubre que lo anterior le dejaba por l menos una opción, mientras que la última no le deja ninguna, y que es mejo tener una opción entre varias alternativas desagradables que ser obligado elegir una.\n",
            "\tLa renuencia a tolerar o respetar cualquier fuerza social que no se reconocida como el producto de una concepción inteligente, lo que es un causa muy importante para el actual deseo de una planificación económicoglobalizadora, es verdaderamente sólo un aspecto de una tendencia má general. Nos encontramos con esa misma tendencia en el campo moral y d las convenciones, cuando se intenta sustituir los lenguajes existentes po un lenguaje artificial, y en toda actitud moderna hacia procesos que gobiernen el crecimiento del conocimiento. La creencia de que sólo un sistem sintético de moralidades, un lenguaje artificial, o incluso una sociedad artificial puede justificarse en una era de ciencia, así como también la crecient reticencia a someterse a cualquier regla moral cuya utilidad no sea demostrada racionalmente, o a conformarse con las convenciones cuya racionalidad no sea conocida, son manifestaciones de la misma opinión básica qu postula que toda la actividad social sea visiblemente parte de un solo pla coherente. Ellas son los resultados del mismo “individualismo” racionalist que desea ver en todo el producto de la razón individual consciente. Si embargo, semejante actitud no es ciertamente producto del verdadero individualismo y puede incluso terminar con un sistema libre y verdaderament individualista. La gran lección que nos enseña la filosofía individualista este respecto es que puede no ser difícil destruir las formaciones espontáneas, bases indispensables de una civilización libre, pero puede estar má allá de nuestro poder reconstruir deliberadamente tal civilización una ve que estos cimientos sean destruidos.\n",
            "\tEl punto que estoy tratando de analizar está muy bien ilustrado po la aparente paradoja de que los alemanes, comúnmente considerados mu dóciles, sean también a menudo descritos como individualistas. Con algo d verdad, este así llamado individualismo alemán es con frecuencia representado como una de las causas por las cuales los alemanes nunca han tenid éxito en el desarrollo de instituciones políticas libres. En el sentido racionalista del término, por su insistencia en el desarrollo de personalidades “originales”, que son desde todo punto de vista el producto de la opción consciente del individuo, la tradición intelectual alemana verdaderament favorece una suerte de “individualismo” poco conocido en otras partes Recuerdo bien cuán sorprendido, e incluso impactado, quedé cuando siendo un joven estudiante, en mi primer contacto con ingleses y americanos descubrí su gran disposición a conformarse con las cosas superficiales comunes y no, como me parecía natural, a estar orgullosos de ser diferente y originales en muchos aspectos. Si se duda acerca de la significación d dicha experiencia personal, la encontrarán completamente confirmada en l mayoría de los análisis alemanes acerca, por ejemplo, del sistema inglés d los “public schools”, así como también la hallarán en el famoso libro d Dibelius sobre Inglaterra.<footnote-24> Reiteradamente se encontrarán con la mism sorpresa acerca de esta tendencia hacia la conformidad voluntaria y la verá contrastada con la ambición del joven alemán a desarrollar una “personalidad original”, que en todo sentido expresa lo que él ha llegado a considera como correcto y verdadero. Este culto a la individualidad distinta y diferente tiene, por supuesto, raíces profundas en la tradición intelectual german y, a través de la influencia de algunos de sus más grandes exponentes especialmente Goethe y Wilhelm von Humboldt, se ha hecho sentir y s puede ver claramente en Liberty de J. S. Mill.\n",
            "\tEsta clase de “individualismo” además de no tener nada que ver co el individualismo verdadero, puede significar un grave obstáculo para e tranquilo desarrollo de un sistema individualista. Una pregunta debe segui vigente que es si una sociedad libre o individualista puede funcionar co éxitos cuando la gente es demasiado “individualista” en el falso sentido, cuando está demasiado renuentes a conformarse con las tradiciones convenciones, y cuando rehúsan reconocer cualquier cosa que no est concebida conscientemente o que no pueda mostrarse como racional par cada individuo. Es comprensible que este tipo de “individualismo” a menudo haya hecho que la gente de buena voluntad pierda toda posibilidad d lograr orden en una sociedad libre y que incluso las haya inducido a pedi un gobierno dictatorial con poder para imponer en la sociedad el orden qu no producirían ellas mismas.\n",
            "\tEn Alemania, en particular, esta preferencia por la organización deliberada, y el correspondiente desdén por lo espontáneo y lo fuera de control, se vio apoyada con gran fuerza por la tendencia hacia la centralizació que produjo la lucha por la unidad nacional. En un país donde las tradiciones eran esencialmente locales, la pugna por la unidad implicaba una oposición sistemática a casi todo lo que fuera crecimiento espontáneo y su consiguiente sustitución por creaciones artificiales. Es que, como lo ha descrit recientemente un historiador, los alemanes han estado en “desesperad búsqueda de una tradición que no poseían”,25 y han terminado por crear u Estado totalitario que los obligó a aceptar una situación que les parecí necesaria. Lo ocurrido no debería, quizás, habernos sorprendido tanto.\n",
            "\tSi es verdad que la progresiva tendencia hacia el control central d todos los procesos sociales es el resultado inevitable de una aproximació que insiste en que todo debe ser planeado y efectuado de acuerdo a es plan, y mostrar así un orden reconocible, también es cierto que esta tendencia tiende a crear condiciones en las cuales sólo un gobierno central todopoderoso puede preservar el orden y la estabilidad. La concentración d todas las decisiones en las manos de la autoridad misma produce una situación en la cual la estructura de la sociedad es impuesta por el gobierno donde los individuos se han convertido en unidades intercambiables, si ninguna otra relación definida o durable que aquellas determinadas por l organización total. En términos de los sociólogos modernos, este tipo d sociedad ha llegado a conocerse como “sociedad de masas”, un nombre e cierto modo engañoso, ya que los atributos característicos de este tipo d sociedad no son tanto el resultado de simples números sino de la carenci de una estructura espontánea distinta a la prescrita por la organizació deliberada, una incapacidad para deducir sus propias diferenciaciones una consecuente dependencia del poder que deliberadamente la moldea y l define. Está en relación con números sólo en la medida en que en las grandes naciones, el proceso de centralización alcance pronto un punto dond la organización creada desde las altas esferas asfixie las formaciones espontáneas que están fundadas en contactos más estrechos y más íntimos qu aquellos que pueden existir en toda la unidad \n",
            "\tNo es sorprendente que en el siglo XIX, cuando estas tendencia llegaron a ser claramente visibles por primera vez, la crítica a la centralización llegó a ser una de las preocupaciones principales de los filósofos individualistas. Esta oposición se ve particularmente resaltada en las obras d los dos grandes historiadores que escogí antes como los más importante representantes del verdadero individualismo en el siglo XIX, De Tocqueville y Lord Acton; y encuentra expresión en las profundas simpatías d ambos por los países pequeños y por la organización federal de amplia unidades. Ahora existen mejores razones para pensar que los países pequeños pueden dentro de poco llegar a ser los últimos oasis que preservará una sociedad libre. Puede ser ya demasiado tarde para detener el curso fata de la progresiva centralización en los países más grandes, que están encaminados a producir aquellas sociedades de masas en las cuales el despotismo finalmente viene a aparecer como la única salvación. Si los países pequeños logran escapar, dependerá en definitiva de su inmunidad al venen del nacionalismo, el cual es una inducción y un resultado de aquel mism esfuerzo por lograr una sociedad conscientemente organizada desde la altas esferas.\n",
            "\tLa actitud del individualismo hacia el nacionalismo, que intelectualmente es sólo un hermano gemelo del socialismo, merecería una discusió especial. Aquí sólo puedo señalar que la diferencia fundamental entre l que en el siglo XIX era considerado liberalismo en el mundo de habla inglesa y lo que se entendía por tal en el continente europeo, está estrechament conectado con su descendencia del verdadero individualismo y el fals individualismo racionalista, respectivamente. Era sólo el liberalismo en e sentido inglés el que generalmente se oponía a la centralización, al nacionalismo y al socialismo, mientras el liberalismo generalizado en Europa favorecía a los tres. Sin embargo, debería agregar que, en éste como en mucho otros aspectos, John Stuart Mill, y el posterior liberalismo inglés derivad de él, pertenece al menos tanto a la tradición europea como a la inglesa; no conozco discusión más esclarecedora acerca de estas diferencias básicas que la crítica de Lord Acton acerca de las concesiones que Mill habí hecho a las tendencias nacionalistas del liberalismo europeo.<footnote-26>\n",
            "\tExisten otros dos puntos de diferencia entre ambas mociones acerc del individualismo, que también están bien ilustrados en la postura adoptada por Lord Acton y De Tocqueville sobre democracia e igualdad, respect de tendencias que se hicieron prominentes en su época. El verdadero individualismo no sólo cree en la democracia sino que puede asegurar que lo ideales democráticos surgen de los principios básicos del individualismo Sin embargo, mientras el individualismo afirma que todo gobierno deberí ser democrático, no tiene una fe ciega en la omnicompetencia de las decisiones de la mayoría; en particular rehúsa admitir que “el poder absoluto pued ser, mediante la hipótesis del origen popular, tan legítimo como la liberta constitucional”.<footnote-27> El verdadero individualismo cree que bajo una democracia, no menos que bajo cualquiera otra forma de gobierno, “la esfera d mandato impuesto debería restringirse dentro de los límites fijados”.<footnote-28> S opone particularmente a la más ominosa y peligrosa de todas las mala interpretaciones actuales de democracia, la creencia de que debemos aceptar como verdaderos y obligatorios para el desarrollo futuro los puntos d vista de la mayoría. Aunque la democracia esté fundada en la convenció de que el punto de vista de la mayoría decide en una acción común, eso n significa que la que actualmente es la opinión de la mayoría debiera convertirse en el punto de vista aceptado por todos, aunque fuese necesario par lograr los propósitos de la mayoría. Por el contrario, la justificación de l democracia descansa en el hecho de que, con el tiempo, lo que en un momento es la opinión de una pequeña minoría, puede convertirse en la opinión de la mayoría. Creo, verdaderamente, que una de las interrogantes má importantes, para la cual la teoría política tendrá que elaborar una respuest en el futuro próximo, es encontrar una línea de demarcación entre el camp donde las opiniones de la mayoría deban ser obligatorias para todos y en e campo donde, por el contrario, la posición de la minoría debiera permitirs para producir resultados que satisfagan mejor una exigencia del público Ante todo, estoy convenido de que, cuando se comprometen los interese de una rama particular del comercio, la opinión de la mayoría siempre ser reaccionaria, o estacionaria, y que el mérito de la competencia es que precisamente le da a la minoría una oportunidad para convencer. Cuando pued hacerlo de esta forma sin ningún poder coercitivo, siempre debería tener es derecho. No puedo resumir mejor esta actitud del verdadero individualism hacia la democracia sin antes citar, una vez más, a Lord Acton, quien escribió: “el verdadero principio democrático, que nadie tendrá poder sobre e pueblo, se interpreta como que nadie será capaz de limitar o de eludir s poder. El verdadero principio democrático, que al pueblo no se le obligará hacer lo que no le gusta, se interpreta como que no se le pedirá nunca qu tolere lo que no le gusta. El verdadero principio democrático, según el cua la voluntad de cada hombre será tan libre como sea posible, se interpret como que la libre voluntad del pueblo colectivo no se verá impedida e nada”.<footnote-29>\n",
            "\tSin embargo, al volver al tema de la igualdad, se debería decir d inmediato que el verdadero individualismo no es igualitario en el modern sentido de la palabra. No encuentra razón para tratar de hacer igual a gent que es distinta, en lugar de tratarlos con igualdad. Aunque el individualismo se opone profundamente a todo privilegio prescriptivo, a toda protección, mediante la ley o la fuerza, de cualquier derecho que no esté basad en las normas aplicables de igual forma a todas las personas, también nieg al gobierno el derecho a limitar lo que el capaz o afortunado pueda lograr. S opone igualmente a cualquier limitación rígida de la posición que los individuos pueda lograr, ya sea que este poder sea utilizado para perpetuar l desigualdad o para crear igualdad. Su principio fundamental es que ningú hombre, o grupo de hombres, debería tener el poder para decidir sobre e status de otro hombre, y considera esto como una condición para la liberta tan esencial que no debe ser sacrificada para la gratificación de nuestr sentido de justicia o de nuestra envidia.\n",
            "\tDesde el punto de vista del individualismo, no parecería existir justificación alguna para hacer que todos los individuos empezaren en el mism nivel, impidiéndoles beneficiarse de las ventajas que no han ganado, ta como el haber nacido de padres que son más inteligentes o más concienzudos que el promedio. En este punto, el individualismo es verdaderament menos “individualista” que el socialismo, ya que reconoce en la familia un unidad tan legítima como el individuo; y lo mismo vale para otros grupos tales como comunidades lingüísticas o religiosas, las cuales mediante su esfuerzos comunes pretenden preservar para sus miembros niveles materiales o morales diferentes a los del resto de la población. De Tocqueville Lord Acton están plenamente de acuerdo en este aspecto. “Democracia socialismo”, escribió De Tocqueville, “no tienen nada en común, sino un palabra, igualdad. Pero es preciso advertir la diferencia: mientras la democracia busca la igualdad en libertad, el socialismo busca la igualdad en restricción y esclavitud”.<footnote-30> Y Acton se unía a él en la creencia de que “la caus más profunda de que la Revolución Francesa fuese tan desastrosa para l libertad, fue su teoría acerca de la igualdad”31 y que “la gran oportunida jamás dada al mundo fue desbaratada porque la pasión por la igualdad hiz vana toda esperanza de libertad”.<footnote-32>\n",
            "\tPodríamos seguir discutiendo durante mucho tiempo acerca de otra diferencias que separan las dos corrientes de pensamiento las que, a pesa de llevar el mismo nombre, están divididas por principios fundamentale opuestos. Pero no me debo permitir apartarme demasiado de la tarea d buscar la fuente de la confusión que ha resultado de esto y de demostra que existe una tradición coherente, se esté o no de acuerdo conmigo, d “verdadero” individualismo, que es en todo caso la única clase de individualismo que estoy preparado para defender y que, en realidad, creo, es e único que puede defenderse de manera consistente. De modo que, permítanme volver, para concluir, a lo que dije al comienzo: la actitud fundamenta del verdadero individualismo es la humildad hacia los procesos mediant los cuales la humanidad ha logrado cosas que no han sido concebidas n entendidas por ningún individuo y que son en realidad más grandes que la mentes individuales. La gran pregunta en este momento es si a la mente de hombre se le permitirá continuar creciendo como parte de este proceso o s la razón humana se va a poner sus propias ataduras.\n",
            "\tLo que el individualismo no enseña es que la sociedad es más grande que el individuo sólo en cuanto ella sea libre. En tanto esté controlada dirigida, queda limitada a los poderes de mentes individuales que la controlan o la dirigen. Si la arrogancia de la mente moderna, que no respeta nad que no esté conscientemente controlado por la razón individual, no aprend a detenerse a tiempo, podemos, como nos lo advirtió Edmund Burke, “esta muy seguros de que todo alrededor nuestro disminuirá gradualmente, hast que finalmente nuestras preocupaciones se contraigan hasta alcanzar la dimensiones de nuestras mentes” <text-end>\n"
          ],
          "name": "stdout"
        }
      ]
    },
    {
      "cell_type": "code",
      "metadata": {
        "colab": {
          "base_uri": "https://localhost:8080/"
        },
        "id": "K0O9YDxdgR34",
        "outputId": "d88e29a0-4402-415c-ca96-7dae413bed28"
      },
      "source": [
        "print(doc)"
      ],
      "execution_count": null,
      "outputs": [
        {
          "output_type": "stream",
          "text": [
            "\n"
          ],
          "name": "stdout"
        }
      ]
    }
  ]
}