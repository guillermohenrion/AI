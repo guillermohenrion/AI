{
  "nbformat": 4,
  "nbformat_minor": 0,
  "metadata": {
    "colab": {
      "name": "Convolutional Neural Network.ipynb",
      "provenance": [],
      "collapsed_sections": [],
      "authorship_tag": "ABX9TyPSQmM9aZXf7lN/nFT+YEDH",
      "include_colab_link": true
    },
    "kernelspec": {
      "name": "python3",
      "display_name": "Python 3"
    }
  },
  "cells": [
    {
      "cell_type": "markdown",
      "metadata": {
        "id": "view-in-github",
        "colab_type": "text"
      },
      "source": [
        "<a href=\"https://colab.research.google.com/github/guillermohenrion/AI/blob/master/Convolutional_Neural_Network.ipynb\" target=\"_parent\"><img src=\"https://colab.research.google.com/assets/colab-badge.svg\" alt=\"Open In Colab\"/></a>"
      ]
    },
    {
      "cell_type": "code",
      "metadata": {
        "id": "HmWtunqcEyS1",
        "colab_type": "code",
        "colab": {}
      },
      "source": [
        "import tensorflow as tf\n",
        "from tensorflow import keras\n",
        "import matplotlib.pyplot as plt\n",
        "import numpy as np\n",
        "import pydot_ng as pydot"
      ],
      "execution_count": 1,
      "outputs": []
    },
    {
      "cell_type": "code",
      "metadata": {
        "id": "Sn2BrD2lE12h",
        "colab_type": "code",
        "colab": {
          "base_uri": "https://localhost:8080/",
          "height": 51
        },
        "outputId": "f6ae0089-2b6d-4cfd-c15a-f8a3c9732121"
      },
      "source": [
        "from keras.datasets import cifar10\n",
        "\n",
        "#I'm dividing my data into training and test set\n",
        "\n",
        "(x_train, y_train), (x_test, y_test) = cifar10.load_data()\n",
        "\n",
        "x_train.shape, x_test.shape, y_train.shape, y_test.shape"
      ],
      "execution_count": 2,
      "outputs": [
        {
          "output_type": "stream",
          "text": [
            "Using TensorFlow backend.\n"
          ],
          "name": "stderr"
        },
        {
          "output_type": "execute_result",
          "data": {
            "text/plain": [
              "((50000, 32, 32, 3), (10000, 32, 32, 3), (50000, 1), (10000, 1))"
            ]
          },
          "metadata": {
            "tags": []
          },
          "execution_count": 2
        }
      ]
    },
    {
      "cell_type": "code",
      "metadata": {
        "id": "xrhprIElE3b4",
        "colab_type": "code",
        "colab": {}
      },
      "source": [
        "batch_size=32\n",
        "epochs=3\n",
        "class_names = [\"airplane\",\"automobile\",\"bird\",\"cat\",\"deer\",\"dog\",\"frog\",\"horse\",\"ship\",\"truck\"] "
      ],
      "execution_count": 3,
      "outputs": []
    },
    {
      "cell_type": "code",
      "metadata": {
        "id": "r2j-phIZE5u2",
        "colab_type": "code",
        "colab": {}
      },
      "source": [
        "model=tf.keras.Sequential() \n",
        "model.add(tf.keras.layers.Conv2D(32,kernel_size=(3,3),activation='relu',input_shape=(32,32,1))) \n",
        "model.add(tf.keras.layers.MaxPooling2D(pool_size=(2,2))) \n",
        "model.add(tf.keras.layers.Flatten()) \n",
        "model.add(tf.keras.layers.Dense(1024,activation='relu')) \n",
        "model.add(tf.keras.layers.Dense(10,activation='softmax'))"
      ],
      "execution_count": 4,
      "outputs": []
    },
    {
      "cell_type": "code",
      "metadata": {
        "id": "sSzhEQpsFcvs",
        "colab_type": "code",
        "colab": {}
      },
      "source": [
        "model.compile(loss='categorical_crossentropy', optimizer=tf.keras.optimizers.Adam(lr=0.001,decay=1e-6), metrics=['accuracy'])"
      ],
      "execution_count": 5,
      "outputs": []
    },
    {
      "cell_type": "code",
      "metadata": {
        "id": "rAi6QgDyFg95",
        "colab_type": "code",
        "colab": {
          "base_uri": "https://localhost:8080/",
          "height": 51
        },
        "outputId": "183bf5f5-5ff4-42ee-9144-d7ec2ffe95e3"
      },
      "source": [
        "#I'm dividing my train and test set by 255, since I want to normalize the value of each pixel (ranging from 0 to 255)\n",
        "model.fit(np.resize(x_train, (50000,32,32,1))/255.0,tf.keras.utils.to_categorical(y_train),\n",
        "         batch_size=batch_size,\n",
        "         shuffle=True,\n",
        "         epochs=epochs,\n",
        "         validation_data=(np.resize(x_test, (10000,32,32,1))/255.0,tf.keras.utils.to_categorical(y_test))\n",
        "         )"
      ],
      "execution_count": null,
      "outputs": [
        {
          "output_type": "stream",
          "text": [
            "Epoch 1/3\n",
            "1461/1563 [===========================>..] - ETA: 8s - loss: 2.3079 - accuracy: 0.1018"
          ],
          "name": "stdout"
        }
      ]
    },
    {
      "cell_type": "code",
      "metadata": {
        "id": "UJ3b5saCFk9p",
        "colab_type": "code",
        "colab": {}
      },
      "source": [
        "keras.utils.plot_model(model,show_shapes=True)"
      ],
      "execution_count": null,
      "outputs": []
    },
    {
      "cell_type": "code",
      "metadata": {
        "id": "YMqLb0fuFm6i",
        "colab_type": "code",
        "colab": {}
      },
      "source": [
        "plt.imshow(x_train[12]) \n",
        "plt.title(class_names[y_train[12:13][0][0]])"
      ],
      "execution_count": null,
      "outputs": []
    },
    {
      "cell_type": "code",
      "metadata": {
        "id": "BTUqCwQ3FoK5",
        "colab_type": "code",
        "colab": {}
      },
      "source": [
        "model.add(tf.keras.layers.Conv2D(32,kernel_size=(3,3),activation='relu',input_shape=(32,32,3))) model.add(tf.keras.layers.MaxPooling2D(pool_size=(2,2))) \n",
        "#I'm adding two Dropout layers to prevent overfitting model.add(tf.keras.layers.Dropout(0.25)) model.add(tf.keras.layers.Flatten()) model.add(tf.keras.layers.Dense(1024,activation='relu')) model.add(tf.keras.layers.Dropout(0.5)) model.add(tf.keras.layers.Dense(10,activation='softmax'))"
      ],
      "execution_count": null,
      "outputs": []
    },
    {
      "cell_type": "code",
      "metadata": {
        "id": "zc09nzBqFqpB",
        "colab_type": "code",
        "colab": {}
      },
      "source": [
        "model.compile(loss='categorical_crossentropy', optimizer=tf.keras.optimizers.Adam(lr=0.001,decay=1e-6), metrics=['accuracy']) \n",
        "model.fit(x_train/255.0,tf.keras.utils.to_categorical(y_train), batch_size=batch_size, shuffle=True, epochs=epochs, validation_data=(x_test/255.0,tf.keras.utils.to_categorical(y_test)) )"
      ],
      "execution_count": null,
      "outputs": []
    },
    {
      "cell_type": "code",
      "metadata": {
        "id": "1jdhFrtcFuOT",
        "colab_type": "code",
        "colab": {}
      },
      "source": [
        "predictions=model.predict(x_test) \n",
        "scores = model.evaluate(x_test / 255.0, tf.keras.utils.to_categorical(y_test))"
      ],
      "execution_count": null,
      "outputs": []
    },
    {
      "cell_type": "code",
      "metadata": {
        "id": "9-AKQF0FFwbh",
        "colab_type": "code",
        "colab": {}
      },
      "source": [
        "#I'm defining a function that plot my predicted image, with true #label as title \n",
        "def plot_pred(i,predictions_array,true_label,img):\n",
        "    predictions_array,true_label,img=predictions_array[i],true_label[i:i+1],img[i]\n",
        "    plt.grid(False)\n",
        "    plt.title(class_names[true_label[0][0]])\n",
        "    plt.xticks([])\n",
        "    plt.yticks([])\n",
        "    \n",
        "    plt.imshow(img)\n",
        " \n",
        "#I'm defining a function that plot my prediction vector, showing #whether my\n",
        "#predicted value is correct (in blue) or incorrect (in red)\n",
        "\n",
        "def plot_bar(i,predictions_array,true_label):\n",
        "    predictions_array, true_label = predictions_array[i], true_label[i]\n",
        "    plt.grid(False)\n",
        "    plt.yticks([])\n",
        "    plt.xticks(np.arange(10),class_names,rotation=40)\n",
        "    \n",
        "    thisplot=plt.bar(range(10),predictions_array, color='grey')\n",
        "    plt.ylim([0,1])\n",
        "    predicted_label=np.argmax(predictions_array)\n",
        "    \n",
        "    \n",
        "    if predicted_label==true_label:\n",
        "        color='blue'\n",
        "    else:\n",
        "        color='red'\n",
        "    \n",
        "    thisplot[predicted_label].set_color(color)\n",
        "\n",
        "#plotting both the images\n",
        "\n",
        "plt.figure(figsize=(15,6))\n",
        "plt.subplot(1,2,1)\n",
        "plot_pred(10, predictions, y_test, x_test)\n",
        "plt.subplot(1,2,2)\n",
        "plot_bar(10, predictions,  y_test)\n",
        "plt.show()\n",
        "plt.imshow(img)"
      ],
      "execution_count": null,
      "outputs": []
    },
    {
      "cell_type": "code",
      "metadata": {
        "id": "Fd_0vaH6Fx6b",
        "colab_type": "code",
        "colab": {}
      },
      "source": [
        "plt.figure(figsize=(15,6)) \n",
        "plt.subplot(1,2,1) \n",
        "plot_pred(20, predictions, y_test, x_test) \n",
        "plt.subplot(1,2,2) \n",
        "plot_bar(20, predictions, y_test) \n",
        "plt.show()"
      ],
      "execution_count": null,
      "outputs": []
    }
  ]
}