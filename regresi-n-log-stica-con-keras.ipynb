{
 "cells": [
  {
   "cell_type": "code",
   "execution_count": 1,
   "metadata": {
    "execution": {
     "iopub.execute_input": "2023-06-25T13:44:26.714944Z",
     "iopub.status.busy": "2023-06-25T13:44:26.714173Z",
     "iopub.status.idle": "2023-06-25T13:44:31.304909Z",
     "shell.execute_reply": "2023-06-25T13:44:31.303830Z",
     "shell.execute_reply.started": "2023-06-25T13:25:20.725729Z"
    },
    "papermill": {
     "duration": 4.612716,
     "end_time": "2023-06-25T13:44:31.305113",
     "exception": false,
     "start_time": "2023-06-25T13:44:26.692397",
     "status": "completed"
    },
    "tags": []
   },
   "outputs": [
    {
     "name": "stderr",
     "output_type": "stream",
     "text": [
      "Using TensorFlow backend.\n"
     ]
    }
   ],
   "source": [
    "from sklearn.model_selection import train_test_split\n",
    "from keras.utils import to_categorical\n",
    "from keras.callbacks import ModelCheckpoint \n",
    "from keras.models import Sequential\n",
    "from keras.layers.core import Dense, Dropout, Activation, Flatten\n",
    "from keras.layers.normalization import BatchNormalization\n",
    "from keras import optimizers\n",
    "from keras import initializers\n",
    "import numpy as np\n",
    "from matplotlib import pyplot as plt"
   ]
  },
  {
   "cell_type": "code",
   "execution_count": 2,
   "metadata": {
    "execution": {
     "iopub.execute_input": "2023-06-25T13:44:31.380169Z",
     "iopub.status.busy": "2023-06-25T13:44:31.379336Z",
     "iopub.status.idle": "2023-06-25T13:44:31.381336Z",
     "shell.execute_reply": "2023-06-25T13:44:31.380758Z",
     "shell.execute_reply.started": "2023-06-25T13:25:25.314110Z"
    },
    "papermill": {
     "duration": 0.050561,
     "end_time": "2023-06-25T13:44:31.381472",
     "exception": false,
     "start_time": "2023-06-25T13:44:31.330911",
     "status": "completed"
    },
    "tags": []
   },
   "outputs": [],
   "source": [
    "classes = ['T-shirt/top', 'Trouser', 'Pullover', 'Dress', 'Coat', 'Sandal', 'Shirt', 'Sneaker', 'Bag', 'Ankle boot']"
   ]
  },
  {
   "cell_type": "markdown",
   "metadata": {
    "papermill": {
     "duration": 0.014698,
     "end_time": "2023-06-25T13:44:31.412465",
     "exception": false,
     "start_time": "2023-06-25T13:44:31.397767",
     "status": "completed"
    },
    "tags": []
   },
   "source": [
    "# Cargo Data"
   ]
  },
  {
   "cell_type": "code",
   "execution_count": 3,
   "metadata": {
    "_cell_guid": "79c7e3d0-c299-4dcb-8224-4455121ee9b0",
    "_uuid": "d629ff2d2480ee46fbb7e2d37f6b5fab8052498a",
    "execution": {
     "iopub.execute_input": "2023-06-25T13:44:31.474604Z",
     "iopub.status.busy": "2023-06-25T13:44:31.473337Z",
     "iopub.status.idle": "2023-06-25T13:44:32.322497Z",
     "shell.execute_reply": "2023-06-25T13:44:32.321729Z",
     "shell.execute_reply.started": "2023-06-25T13:25:25.320820Z"
    },
    "papermill": {
     "duration": 0.885543,
     "end_time": "2023-06-25T13:44:32.322626",
     "exception": false,
     "start_time": "2023-06-25T13:44:31.437083",
     "status": "completed"
    },
    "tags": []
   },
   "outputs": [],
   "source": [
    "folder = '/kaggle/input/fashion-mnist-itba-lab-2020/'\n",
    "x = np.load(folder+'train_images.npy')\n",
    "y = np.loadtxt(folder+'train_labels.csv', delimiter=',', skiprows=1)\n",
    "x_test = np.load(folder+'test_images.npy')"
   ]
  },
  {
   "cell_type": "code",
   "execution_count": 4,
   "metadata": {
    "execution": {
     "iopub.execute_input": "2023-06-25T13:44:32.363196Z",
     "iopub.status.busy": "2023-06-25T13:44:32.361206Z",
     "iopub.status.idle": "2023-06-25T13:44:32.387706Z",
     "shell.execute_reply": "2023-06-25T13:44:32.387173Z",
     "shell.execute_reply.started": "2023-06-25T13:25:26.212589Z"
    },
    "papermill": {
     "duration": 0.050033,
     "end_time": "2023-06-25T13:44:32.387862",
     "exception": false,
     "start_time": "2023-06-25T13:44:32.337829",
     "status": "completed"
    },
    "tags": []
   },
   "outputs": [],
   "source": [
    "x_train, x_valid, y_train, y_valid = train_test_split(x, y, test_size = 0.1)"
   ]
  },
  {
   "cell_type": "code",
   "execution_count": 5,
   "metadata": {
    "execution": {
     "iopub.execute_input": "2023-06-25T13:44:32.430943Z",
     "iopub.status.busy": "2023-06-25T13:44:32.429003Z",
     "iopub.status.idle": "2023-06-25T13:44:32.433928Z",
     "shell.execute_reply": "2023-06-25T13:44:32.433382Z",
     "shell.execute_reply.started": "2023-06-25T13:26:50.058929Z"
    },
    "papermill": {
     "duration": 0.031402,
     "end_time": "2023-06-25T13:44:32.434050",
     "exception": false,
     "start_time": "2023-06-25T13:44:32.402648",
     "status": "completed"
    },
    "tags": []
   },
   "outputs": [
    {
     "data": {
      "text/plain": [
       "array([[[0, 0, 0, ..., 0, 0, 0],\n",
       "        [0, 0, 0, ..., 0, 0, 0],\n",
       "        [0, 0, 0, ..., 0, 0, 0],\n",
       "        ...,\n",
       "        [0, 0, 0, ..., 0, 0, 0],\n",
       "        [0, 0, 0, ..., 0, 0, 0],\n",
       "        [0, 0, 0, ..., 0, 0, 0]],\n",
       "\n",
       "       [[0, 0, 0, ..., 0, 0, 0],\n",
       "        [0, 0, 0, ..., 0, 0, 0],\n",
       "        [0, 0, 0, ..., 0, 0, 0],\n",
       "        ...,\n",
       "        [0, 0, 0, ..., 0, 0, 0],\n",
       "        [0, 0, 0, ..., 0, 0, 0],\n",
       "        [0, 0, 0, ..., 0, 0, 0]],\n",
       "\n",
       "       [[0, 0, 0, ..., 0, 0, 0],\n",
       "        [0, 0, 0, ..., 0, 0, 0],\n",
       "        [0, 0, 0, ..., 0, 0, 0],\n",
       "        ...,\n",
       "        [0, 0, 0, ..., 0, 0, 0],\n",
       "        [0, 0, 0, ..., 0, 0, 0],\n",
       "        [0, 0, 0, ..., 0, 0, 0]],\n",
       "\n",
       "       ...,\n",
       "\n",
       "       [[0, 0, 0, ..., 0, 0, 0],\n",
       "        [0, 0, 0, ..., 0, 0, 0],\n",
       "        [0, 0, 0, ..., 0, 0, 0],\n",
       "        ...,\n",
       "        [0, 0, 0, ..., 0, 0, 0],\n",
       "        [0, 0, 0, ..., 0, 0, 0],\n",
       "        [0, 0, 0, ..., 0, 0, 0]],\n",
       "\n",
       "       [[0, 0, 0, ..., 0, 0, 0],\n",
       "        [0, 0, 0, ..., 0, 0, 0],\n",
       "        [0, 0, 0, ..., 0, 0, 0],\n",
       "        ...,\n",
       "        [0, 0, 0, ..., 0, 0, 0],\n",
       "        [0, 0, 0, ..., 0, 0, 0],\n",
       "        [0, 0, 0, ..., 0, 0, 0]],\n",
       "\n",
       "       [[0, 0, 0, ..., 0, 0, 0],\n",
       "        [0, 0, 0, ..., 0, 0, 0],\n",
       "        [0, 0, 0, ..., 0, 0, 0],\n",
       "        ...,\n",
       "        [0, 0, 0, ..., 0, 0, 0],\n",
       "        [0, 0, 0, ..., 0, 0, 0],\n",
       "        [0, 0, 0, ..., 0, 0, 0]]], dtype=uint8)"
      ]
     },
     "execution_count": 5,
     "metadata": {},
     "output_type": "execute_result"
    }
   ],
   "source": [
    "x_train"
   ]
  },
  {
   "cell_type": "code",
   "execution_count": 6,
   "metadata": {
    "execution": {
     "iopub.execute_input": "2023-06-25T13:44:32.470192Z",
     "iopub.status.busy": "2023-06-25T13:44:32.469083Z",
     "iopub.status.idle": "2023-06-25T13:44:32.474595Z",
     "shell.execute_reply": "2023-06-25T13:44:32.474086Z",
     "shell.execute_reply.started": "2023-06-25T13:25:26.245343Z"
    },
    "papermill": {
     "duration": 0.025631,
     "end_time": "2023-06-25T13:44:32.474701",
     "exception": false,
     "start_time": "2023-06-25T13:44:32.449070",
     "status": "completed"
    },
    "tags": []
   },
   "outputs": [],
   "source": [
    "y_train_categorical = to_categorical(y_train)\n",
    "y_val_categorical = to_categorical(y_valid)"
   ]
  },
  {
   "cell_type": "code",
   "execution_count": 7,
   "metadata": {
    "execution": {
     "iopub.execute_input": "2023-06-25T13:44:32.513268Z",
     "iopub.status.busy": "2023-06-25T13:44:32.512536Z",
     "iopub.status.idle": "2023-06-25T13:44:33.954080Z",
     "shell.execute_reply": "2023-06-25T13:44:33.955598Z",
     "shell.execute_reply.started": "2023-06-25T13:25:26.254834Z"
    },
    "papermill": {
     "duration": 1.466004,
     "end_time": "2023-06-25T13:44:33.955901",
     "exception": false,
     "start_time": "2023-06-25T13:44:32.489897",
     "status": "completed"
    },
    "tags": []
   },
   "outputs": [
    {
     "data": {
      "image/png": "[encoded data removed]",
      "text/plain": [
       "<Figure size 2160x1152 with 32 Axes>"
      ]
     },
     "metadata": {
      "needs_background": "light"
     },
     "output_type": "display_data"
    }
   ],
   "source": [
    "alto = 4\n",
    "ancho = 8\n",
    "f, axs = plt.subplots(alto, ancho, figsize=(30,4*alto))\n",
    "axs = axs.reshape(-1)\n",
    "for i in range(alto*ancho):\n",
    "    axs[i].imshow(x_train[i], cmap='gray')\n",
    "    axs[i].set_title(f'{classes[int(y_train[i])]} - class: {int(y_train[i])}\\n{y_train_categorical[i]}')\n",
    "    axs[i].axis('off')"
   ]
  },
  {
   "cell_type": "code",
   "execution_count": 8,
   "metadata": {
    "execution": {
     "iopub.execute_input": "2023-06-25T13:44:34.045308Z",
     "iopub.status.busy": "2023-06-25T13:44:34.041388Z",
     "iopub.status.idle": "2023-06-25T13:44:36.462326Z",
     "shell.execute_reply": "2023-06-25T13:44:36.459569Z",
     "shell.execute_reply.started": "2023-06-25T13:33:04.243592Z"
    },
    "papermill": {
     "duration": 2.465812,
     "end_time": "2023-06-25T13:44:36.462454",
     "exception": false,
     "start_time": "2023-06-25T13:44:33.996642",
     "status": "completed"
    },
    "tags": []
   },
   "outputs": [
    {
     "name": "stdout",
     "output_type": "stream",
     "text": [
      "Model: \"sequential_1\"\n",
      "_________________________________________________________________\n",
      "Layer (type)                 Output Shape              Param #   \n",
      "=================================================================\n",
      "flatten_1 (Flatten)          (None, 784)               0         \n",
      "_________________________________________________________________\n",
      "Oculta (Dense)               (None, 30)                23550     \n",
      "_________________________________________________________________\n",
      "Salida (Dense)               (None, 10)                310       \n",
      "_________________________________________________________________\n",
      "activation_1 (Activation)    (None, 10)                0         \n",
      "=================================================================\n",
      "Total params: 23,860\n",
      "Trainable params: 23,860\n",
      "Non-trainable params: 0\n",
      "_________________________________________________________________\n"
     ]
    }
   ],
   "source": [
    "output_size = 10\n",
    "model_single_layer = Sequential()\n",
    "model_single_layer.add(Flatten(input_shape=x_train.shape[1:]))\n",
    "model_single_layer.add(Dense(30, name='Oculta', activation='relu'))\n",
    "model_single_layer.add(Dense(output_size, name='Salida'))\n",
    "model_single_layer.add(Activation('softmax'))\n",
    "model_single_layer.summary()"
   ]
  },
  {
   "cell_type": "code",
   "execution_count": 9,
   "metadata": {
    "execution": {
     "iopub.execute_input": "2023-06-25T13:44:36.505343Z",
     "iopub.status.busy": "2023-06-25T13:44:36.504388Z",
     "iopub.status.idle": "2023-06-25T13:44:36.551486Z",
     "shell.execute_reply": "2023-06-25T13:44:36.550744Z",
     "shell.execute_reply.started": "2023-06-25T13:41:16.353105Z"
    },
    "papermill": {
     "duration": 0.071183,
     "end_time": "2023-06-25T13:44:36.551614",
     "exception": false,
     "start_time": "2023-06-25T13:44:36.480431",
     "status": "completed"
    },
    "tags": []
   },
   "outputs": [],
   "source": [
    "lr = 0.00001 \n",
    "SGD = optimizers.Adam(lr=lr)\n",
    "model_single_layer.compile(loss = 'categorical_crossentropy', optimizer=SGD, metrics=['accuracy'])"
   ]
  },
  {
   "cell_type": "code",
   "execution_count": 10,
   "metadata": {
    "execution": {
     "iopub.execute_input": "2023-06-25T13:44:36.595551Z",
     "iopub.status.busy": "2023-06-25T13:44:36.594103Z",
     "iopub.status.idle": "2023-06-25T13:46:04.041630Z",
     "shell.execute_reply": "2023-06-25T13:46:04.042164Z",
     "shell.execute_reply.started": "2023-06-25T13:41:18.030712Z"
    },
    "papermill": {
     "duration": 87.472537,
     "end_time": "2023-06-25T13:46:04.042319",
     "exception": false,
     "start_time": "2023-06-25T13:44:36.569782",
     "status": "completed"
    },
    "tags": []
   },
   "outputs": [
    {
     "name": "stdout",
     "output_type": "stream",
     "text": [
      "Train on 54000 samples, validate on 6000 samples\n",
      "Epoch 1/200\n",
      "54000/54000 [==============================] - 1s 22us/step - loss: 148.3051 - accuracy: 0.0822 - val_loss: 114.2547 - val_accuracy: 0.0985\n",
      "Epoch 2/200\n",
      "54000/54000 [==============================] - 0s 8us/step - loss: 93.5016 - accuracy: 0.1112 - val_loss: 74.0286 - val_accuracy: 0.1272\n",
      "Epoch 3/200\n",
      "54000/54000 [==============================] - 0s 8us/step - loss: 65.2793 - accuracy: 0.1530 - val_loss: 55.5431 - val_accuracy: 0.1850\n",
      "Epoch 4/200\n",
      "54000/54000 [==============================] - 0s 7us/step - loss: 49.6792 - accuracy: 0.2269 - val_loss: 43.1563 - val_accuracy: 0.2745\n",
      "Epoch 5/200\n",
      "54000/54000 [==============================] - 0s 8us/step - loss: 39.7360 - accuracy: 0.3046 - val_loss: 35.4873 - val_accuracy: 0.3407\n",
      "Epoch 6/200\n",
      "54000/54000 [==============================] - 0s 7us/step - loss: 33.6288 - accuracy: 0.3632 - val_loss: 30.6711 - val_accuracy: 0.3937\n",
      "Epoch 7/200\n",
      "54000/54000 [==============================] - 0s 8us/step - loss: 29.5880 - accuracy: 0.4095 - val_loss: 27.3086 - val_accuracy: 0.4300\n",
      "Epoch 8/200\n",
      "54000/54000 [==============================] - 0s 8us/step - loss: 26.6737 - accuracy: 0.4430 - val_loss: 24.8861 - val_accuracy: 0.4653\n",
      "Epoch 9/200\n",
      "54000/54000 [==============================] - 0s 8us/step - loss: 24.4361 - accuracy: 0.4705 - val_loss: 22.9165 - val_accuracy: 0.4887\n",
      "Epoch 10/200\n",
      "54000/54000 [==============================] - 0s 8us/step - loss: 22.6492 - accuracy: 0.4927 - val_loss: 21.3863 - val_accuracy: 0.5102\n",
      "Epoch 11/200\n",
      "54000/54000 [==============================] - 0s 8us/step - loss: 21.1756 - accuracy: 0.5113 - val_loss: 20.1321 - val_accuracy: 0.5308\n",
      "Epoch 12/200\n",
      "54000/54000 [==============================] - 0s 8us/step - loss: 19.9301 - accuracy: 0.5273 - val_loss: 19.0339 - val_accuracy: 0.5458\n",
      "Epoch 13/200\n",
      "54000/54000 [==============================] - 0s 8us/step - loss: 18.8666 - accuracy: 0.5424 - val_loss: 18.0814 - val_accuracy: 0.5568\n",
      "Epoch 14/200\n",
      "54000/54000 [==============================] - 0s 8us/step - loss: 17.9320 - accuracy: 0.5544 - val_loss: 17.2689 - val_accuracy: 0.5703\n",
      "Epoch 15/200\n",
      "54000/54000 [==============================] - 0s 8us/step - loss: 17.0982 - accuracy: 0.5657 - val_loss: 16.5453 - val_accuracy: 0.5772\n",
      "Epoch 16/200\n",
      "54000/54000 [==============================] - 0s 8us/step - loss: 16.3545 - accuracy: 0.5753 - val_loss: 15.9016 - val_accuracy: 0.5855\n",
      "Epoch 17/200\n",
      "54000/54000 [==============================] - 0s 7us/step - loss: 15.6893 - accuracy: 0.5849 - val_loss: 15.3368 - val_accuracy: 0.5955\n",
      "Epoch 18/200\n",
      "54000/54000 [==============================] - 0s 8us/step - loss: 15.0889 - accuracy: 0.5944 - val_loss: 14.7966 - val_accuracy: 0.6042\n",
      "Epoch 19/200\n",
      "54000/54000 [==============================] - 0s 8us/step - loss: 14.5442 - accuracy: 0.6028 - val_loss: 14.3179 - val_accuracy: 0.6108\n",
      "Epoch 20/200\n",
      "54000/54000 [==============================] - 0s 8us/step - loss: 14.0378 - accuracy: 0.6091 - val_loss: 13.8670 - val_accuracy: 0.6177\n",
      "Epoch 21/200\n",
      "54000/54000 [==============================] - 0s 8us/step - loss: 13.5618 - accuracy: 0.6169 - val_loss: 13.4245 - val_accuracy: 0.6227\n",
      "Epoch 22/200\n",
      "54000/54000 [==============================] - 0s 8us/step - loss: 13.1231 - accuracy: 0.6231 - val_loss: 13.0193 - val_accuracy: 0.6302\n",
      "Epoch 23/200\n",
      "54000/54000 [==============================] - 0s 8us/step - loss: 12.7079 - accuracy: 0.6300 - val_loss: 12.6235 - val_accuracy: 0.6373\n",
      "Epoch 24/200\n",
      "54000/54000 [==============================] - 0s 7us/step - loss: 12.3215 - accuracy: 0.6363 - val_loss: 12.2872 - val_accuracy: 0.6430\n",
      "Epoch 25/200\n",
      "54000/54000 [==============================] - 0s 7us/step - loss: 11.9669 - accuracy: 0.6424 - val_loss: 11.9492 - val_accuracy: 0.6485\n",
      "Epoch 26/200\n",
      "54000/54000 [==============================] - 0s 7us/step - loss: 11.6306 - accuracy: 0.6480 - val_loss: 11.6371 - val_accuracy: 0.6532\n",
      "Epoch 27/200\n",
      "54000/54000 [==============================] - 0s 8us/step - loss: 11.3170 - accuracy: 0.6532 - val_loss: 11.3560 - val_accuracy: 0.6565\n",
      "Epoch 28/200\n",
      "54000/54000 [==============================] - 0s 7us/step - loss: 11.0193 - accuracy: 0.6578 - val_loss: 11.0825 - val_accuracy: 0.6602\n",
      "Epoch 29/200\n",
      "54000/54000 [==============================] - 0s 7us/step - loss: 10.7421 - accuracy: 0.6628 - val_loss: 10.8408 - val_accuracy: 0.6672\n",
      "Epoch 30/200\n",
      "54000/54000 [==============================] - 0s 7us/step - loss: 10.4753 - accuracy: 0.6683 - val_loss: 10.5748 - val_accuracy: 0.6687\n",
      "Epoch 31/200\n",
      "54000/54000 [==============================] - 0s 7us/step - loss: 10.2219 - accuracy: 0.6706 - val_loss: 10.3392 - val_accuracy: 0.6728\n",
      "Epoch 32/200\n",
      "54000/54000 [==============================] - 0s 7us/step - loss: 9.9777 - accuracy: 0.6745 - val_loss: 10.1123 - val_accuracy: 0.6742\n",
      "Epoch 33/200\n",
      "54000/54000 [==============================] - 0s 7us/step - loss: 9.7382 - accuracy: 0.6784 - val_loss: 9.8937 - val_accuracy: 0.6785\n",
      "Epoch 34/200\n",
      "54000/54000 [==============================] - 0s 9us/step - loss: 9.5058 - accuracy: 0.6818 - val_loss: 9.6771 - val_accuracy: 0.6815\n",
      "Epoch 35/200\n",
      "54000/54000 [==============================] - 0s 8us/step - loss: 9.2798 - accuracy: 0.6847 - val_loss: 9.4622 - val_accuracy: 0.6867\n",
      "Epoch 36/200\n",
      "54000/54000 [==============================] - 0s 8us/step - loss: 9.0561 - accuracy: 0.6874 - val_loss: 9.2446 - val_accuracy: 0.6875\n",
      "Epoch 37/200\n",
      "54000/54000 [==============================] - 0s 7us/step - loss: 8.8349 - accuracy: 0.6900 - val_loss: 9.0205 - val_accuracy: 0.6920\n",
      "Epoch 38/200\n",
      "54000/54000 [==============================] - 0s 8us/step - loss: 8.6105 - accuracy: 0.6915 - val_loss: 8.7940 - val_accuracy: 0.6952\n",
      "Epoch 39/200\n",
      "54000/54000 [==============================] - 0s 8us/step - loss: 8.3866 - accuracy: 0.6935 - val_loss: 8.5647 - val_accuracy: 0.6955\n",
      "Epoch 40/200\n",
      "54000/54000 [==============================] - 0s 8us/step - loss: 8.1495 - accuracy: 0.6950 - val_loss: 8.3359 - val_accuracy: 0.6947\n",
      "Epoch 41/200\n",
      "54000/54000 [==============================] - 0s 8us/step - loss: 7.9049 - accuracy: 0.6957 - val_loss: 8.0857 - val_accuracy: 0.6908\n",
      "Epoch 42/200\n",
      "54000/54000 [==============================] - 0s 7us/step - loss: 7.6489 - accuracy: 0.6951 - val_loss: 7.8166 - val_accuracy: 0.6912\n",
      "Epoch 43/200\n",
      "54000/54000 [==============================] - 0s 8us/step - loss: 7.3678 - accuracy: 0.6911 - val_loss: 7.5241 - val_accuracy: 0.6885\n",
      "Epoch 44/200\n",
      "54000/54000 [==============================] - 0s 7us/step - loss: 7.0453 - accuracy: 0.6868 - val_loss: 7.1823 - val_accuracy: 0.6830\n",
      "Epoch 45/200\n",
      "54000/54000 [==============================] - 0s 8us/step - loss: 6.6710 - accuracy: 0.6798 - val_loss: 6.7295 - val_accuracy: 0.6738\n",
      "Epoch 46/200\n",
      "54000/54000 [==============================] - 0s 8us/step - loss: 6.2100 - accuracy: 0.6679 - val_loss: 6.1602 - val_accuracy: 0.6590\n",
      "Epoch 47/200\n",
      "54000/54000 [==============================] - 0s 8us/step - loss: 5.5410 - accuracy: 0.6490 - val_loss: 5.3290 - val_accuracy: 0.6358\n",
      "Epoch 48/200\n",
      "54000/54000 [==============================] - 0s 8us/step - loss: 4.6351 - accuracy: 0.6225 - val_loss: 4.3441 - val_accuracy: 0.6020\n",
      "Epoch 49/200\n",
      "54000/54000 [==============================] - 0s 7us/step - loss: 3.8459 - accuracy: 0.5857 - val_loss: 3.7064 - val_accuracy: 0.5703\n",
      "Epoch 50/200\n",
      "54000/54000 [==============================] - 0s 8us/step - loss: 3.4106 - accuracy: 0.5571 - val_loss: 3.3728 - val_accuracy: 0.5510\n",
      "Epoch 51/200\n",
      "54000/54000 [==============================] - 0s 8us/step - loss: 3.1583 - accuracy: 0.5398 - val_loss: 3.1340 - val_accuracy: 0.5380\n",
      "Epoch 52/200\n",
      "54000/54000 [==============================] - 0s 8us/step - loss: 2.9793 - accuracy: 0.5266 - val_loss: 2.9587 - val_accuracy: 0.5288\n",
      "Epoch 53/200\n",
      "54000/54000 [==============================] - 0s 8us/step - loss: 2.8455 - accuracy: 0.5205 - val_loss: 2.8245 - val_accuracy: 0.5245\n",
      "Epoch 54/200\n",
      "54000/54000 [==============================] - 0s 8us/step - loss: 2.7375 - accuracy: 0.5451 - val_loss: 2.7141 - val_accuracy: 0.5712\n",
      "Epoch 55/200\n",
      "54000/54000 [==============================] - 0s 8us/step - loss: 2.6439 - accuracy: 0.5709 - val_loss: 2.6175 - val_accuracy: 0.5693\n",
      "Epoch 56/200\n",
      "54000/54000 [==============================] - 0s 8us/step - loss: 2.5621 - accuracy: 0.5674 - val_loss: 2.5358 - val_accuracy: 0.5670\n",
      "Epoch 57/200\n",
      "54000/54000 [==============================] - 0s 8us/step - loss: 2.4875 - accuracy: 0.5658 - val_loss: 2.4694 - val_accuracy: 0.5652\n",
      "Epoch 58/200\n",
      "54000/54000 [==============================] - 0s 9us/step - loss: 2.4222 - accuracy: 0.5658 - val_loss: 2.4071 - val_accuracy: 0.5643\n",
      "Epoch 59/200\n",
      "54000/54000 [==============================] - 0s 8us/step - loss: 2.3627 - accuracy: 0.5645 - val_loss: 2.3488 - val_accuracy: 0.5643\n",
      "Epoch 60/200\n",
      "54000/54000 [==============================] - 0s 8us/step - loss: 2.3067 - accuracy: 0.5621 - val_loss: 2.2936 - val_accuracy: 0.5627\n",
      "Epoch 61/200\n",
      "54000/54000 [==============================] - 0s 8us/step - loss: 2.2534 - accuracy: 0.5636 - val_loss: 2.2431 - val_accuracy: 0.5642\n",
      "Epoch 62/200\n",
      "54000/54000 [==============================] - 0s 8us/step - loss: 2.2033 - accuracy: 0.5617 - val_loss: 2.1958 - val_accuracy: 0.5640\n",
      "Epoch 63/200\n",
      "54000/54000 [==============================] - 0s 8us/step - loss: 2.1548 - accuracy: 0.5621 - val_loss: 2.1491 - val_accuracy: 0.5640\n",
      "Epoch 64/200\n",
      "54000/54000 [==============================] - 0s 8us/step - loss: 2.1083 - accuracy: 0.5622 - val_loss: 2.1050 - val_accuracy: 0.5645\n",
      "Epoch 65/200\n",
      "54000/54000 [==============================] - 0s 8us/step - loss: 2.0645 - accuracy: 0.5639 - val_loss: 2.0659 - val_accuracy: 0.5688\n",
      "Epoch 66/200\n",
      "54000/54000 [==============================] - 0s 8us/step - loss: 2.0246 - accuracy: 0.5683 - val_loss: 2.0211 - val_accuracy: 0.5703\n",
      "Epoch 67/200\n",
      "54000/54000 [==============================] - 1s 9us/step - loss: 1.9871 - accuracy: 0.5709 - val_loss: 1.9839 - val_accuracy: 0.5687\n",
      "Epoch 68/200\n",
      "54000/54000 [==============================] - 1s 13us/step - loss: 1.9494 - accuracy: 0.5696 - val_loss: 1.9502 - val_accuracy: 0.5655\n",
      "Epoch 69/200\n",
      "54000/54000 [==============================] - 1s 12us/step - loss: 1.9095 - accuracy: 0.5689 - val_loss: 1.9136 - val_accuracy: 0.5668\n",
      "Epoch 70/200\n",
      "54000/54000 [==============================] - 0s 9us/step - loss: 1.8701 - accuracy: 0.5671 - val_loss: 1.8812 - val_accuracy: 0.5662\n",
      "Epoch 71/200\n",
      "54000/54000 [==============================] - 0s 7us/step - loss: 1.8334 - accuracy: 0.5685 - val_loss: 1.8443 - val_accuracy: 0.5692\n",
      "Epoch 72/200\n",
      "54000/54000 [==============================] - 0s 7us/step - loss: 1.7986 - accuracy: 0.5708 - val_loss: 1.8118 - val_accuracy: 0.5690\n",
      "Epoch 73/200\n",
      "54000/54000 [==============================] - 0s 7us/step - loss: 1.7647 - accuracy: 0.5722 - val_loss: 1.7786 - val_accuracy: 0.5712\n",
      "Epoch 74/200\n",
      "54000/54000 [==============================] - 0s 7us/step - loss: 1.7329 - accuracy: 0.5756 - val_loss: 1.7470 - val_accuracy: 0.5737\n",
      "Epoch 75/200\n",
      "54000/54000 [==============================] - 0s 7us/step - loss: 1.7020 - accuracy: 0.5769 - val_loss: 1.7170 - val_accuracy: 0.5790\n",
      "Epoch 76/200\n",
      "54000/54000 [==============================] - 0s 8us/step - loss: 1.6724 - accuracy: 0.5803 - val_loss: 1.6890 - val_accuracy: 0.5808\n",
      "Epoch 77/200\n",
      "54000/54000 [==============================] - 0s 8us/step - loss: 1.6441 - accuracy: 0.5818 - val_loss: 1.6600 - val_accuracy: 0.5858\n",
      "Epoch 78/200\n",
      "54000/54000 [==============================] - 0s 8us/step - loss: 1.6180 - accuracy: 0.5846 - val_loss: 1.6337 - val_accuracy: 0.5880\n",
      "Epoch 79/200\n",
      "54000/54000 [==============================] - 0s 8us/step - loss: 1.5935 - accuracy: 0.5867 - val_loss: 1.6102 - val_accuracy: 0.5917\n",
      "Epoch 80/200\n",
      "54000/54000 [==============================] - 1s 9us/step - loss: 1.5705 - accuracy: 0.5999 - val_loss: 1.5876 - val_accuracy: 0.6098\n",
      "Epoch 81/200\n",
      "54000/54000 [==============================] - 0s 8us/step - loss: 1.5492 - accuracy: 0.6102 - val_loss: 1.5655 - val_accuracy: 0.6138\n",
      "Epoch 82/200\n",
      "54000/54000 [==============================] - 0s 8us/step - loss: 1.5284 - accuracy: 0.6122 - val_loss: 1.5480 - val_accuracy: 0.6158\n",
      "Epoch 83/200\n",
      "54000/54000 [==============================] - 0s 8us/step - loss: 1.5081 - accuracy: 0.6156 - val_loss: 1.5263 - val_accuracy: 0.6167\n",
      "Epoch 84/200\n",
      "54000/54000 [==============================] - 0s 8us/step - loss: 1.4877 - accuracy: 0.6186 - val_loss: 1.5074 - val_accuracy: 0.6205\n",
      "Epoch 85/200\n",
      "54000/54000 [==============================] - 0s 8us/step - loss: 1.4674 - accuracy: 0.6226 - val_loss: 1.4887 - val_accuracy: 0.6230\n",
      "Epoch 86/200\n",
      "54000/54000 [==============================] - 0s 8us/step - loss: 1.4479 - accuracy: 0.6246 - val_loss: 1.4706 - val_accuracy: 0.6247\n",
      "Epoch 87/200\n",
      "54000/54000 [==============================] - 0s 8us/step - loss: 1.4292 - accuracy: 0.6252 - val_loss: 1.4525 - val_accuracy: 0.6260\n",
      "Epoch 88/200\n",
      "54000/54000 [==============================] - 0s 8us/step - loss: 1.4104 - accuracy: 0.6278 - val_loss: 1.4342 - val_accuracy: 0.6285\n",
      "Epoch 89/200\n",
      "54000/54000 [==============================] - 0s 8us/step - loss: 1.3923 - accuracy: 0.6300 - val_loss: 1.4180 - val_accuracy: 0.6297\n",
      "Epoch 90/200\n",
      "54000/54000 [==============================] - 0s 8us/step - loss: 1.3745 - accuracy: 0.6301 - val_loss: 1.4013 - val_accuracy: 0.6312\n",
      "Epoch 91/200\n",
      "54000/54000 [==============================] - 0s 8us/step - loss: 1.3569 - accuracy: 0.6310 - val_loss: 1.3874 - val_accuracy: 0.6327\n",
      "Epoch 92/200\n",
      "54000/54000 [==============================] - 0s 8us/step - loss: 1.3400 - accuracy: 0.6321 - val_loss: 1.3700 - val_accuracy: 0.6345\n",
      "Epoch 93/200\n",
      "54000/54000 [==============================] - 0s 8us/step - loss: 1.3243 - accuracy: 0.6337 - val_loss: 1.3534 - val_accuracy: 0.6332\n",
      "Epoch 94/200\n",
      "54000/54000 [==============================] - 0s 8us/step - loss: 1.3087 - accuracy: 0.6333 - val_loss: 1.3408 - val_accuracy: 0.6360\n",
      "Epoch 95/200\n",
      "54000/54000 [==============================] - 0s 8us/step - loss: 1.2935 - accuracy: 0.6344 - val_loss: 1.3260 - val_accuracy: 0.6385\n",
      "Epoch 96/200\n",
      "54000/54000 [==============================] - 0s 8us/step - loss: 1.2785 - accuracy: 0.6362 - val_loss: 1.3084 - val_accuracy: 0.6393\n",
      "Epoch 97/200\n",
      "54000/54000 [==============================] - 0s 8us/step - loss: 1.2635 - accuracy: 0.6355 - val_loss: 1.2926 - val_accuracy: 0.6368\n",
      "Epoch 98/200\n",
      "54000/54000 [==============================] - 0s 8us/step - loss: 1.2484 - accuracy: 0.6377 - val_loss: 1.2810 - val_accuracy: 0.6375\n",
      "Epoch 99/200\n",
      "54000/54000 [==============================] - 0s 8us/step - loss: 1.2336 - accuracy: 0.6372 - val_loss: 1.2659 - val_accuracy: 0.6377\n",
      "Epoch 100/200\n",
      "54000/54000 [==============================] - 0s 8us/step - loss: 1.2188 - accuracy: 0.6378 - val_loss: 1.2515 - val_accuracy: 0.6370\n",
      "Epoch 101/200\n",
      "54000/54000 [==============================] - 0s 8us/step - loss: 1.2039 - accuracy: 0.6349 - val_loss: 1.2374 - val_accuracy: 0.6373\n",
      "Epoch 102/200\n",
      "54000/54000 [==============================] - 0s 8us/step - loss: 1.1892 - accuracy: 0.6366 - val_loss: 1.2215 - val_accuracy: 0.6380\n",
      "Epoch 103/200\n",
      "54000/54000 [==============================] - 1s 10us/step - loss: 1.1739 - accuracy: 0.6371 - val_loss: 1.2099 - val_accuracy: 0.6380\n",
      "Epoch 104/200\n",
      "54000/54000 [==============================] - 0s 8us/step - loss: 1.1591 - accuracy: 0.6361 - val_loss: 1.1946 - val_accuracy: 0.6377\n",
      "Epoch 105/200\n",
      "54000/54000 [==============================] - 0s 8us/step - loss: 1.1447 - accuracy: 0.6371 - val_loss: 1.1808 - val_accuracy: 0.6368\n",
      "Epoch 106/200\n",
      "54000/54000 [==============================] - 0s 8us/step - loss: 1.1308 - accuracy: 0.6373 - val_loss: 1.1705 - val_accuracy: 0.6385\n",
      "Epoch 107/200\n",
      "54000/54000 [==============================] - 0s 8us/step - loss: 1.1187 - accuracy: 0.6379 - val_loss: 1.1592 - val_accuracy: 0.6378\n",
      "Epoch 108/200\n",
      "54000/54000 [==============================] - 0s 8us/step - loss: 1.1071 - accuracy: 0.6383 - val_loss: 1.1512 - val_accuracy: 0.6403\n",
      "Epoch 109/200\n",
      "54000/54000 [==============================] - 0s 8us/step - loss: 1.0968 - accuracy: 0.6411 - val_loss: 1.1397 - val_accuracy: 0.6403\n",
      "Epoch 110/200\n",
      "54000/54000 [==============================] - 0s 8us/step - loss: 1.0879 - accuracy: 0.6422 - val_loss: 1.1345 - val_accuracy: 0.6433\n",
      "Epoch 111/200\n",
      "54000/54000 [==============================] - 0s 8us/step - loss: 1.0796 - accuracy: 0.6437 - val_loss: 1.1263 - val_accuracy: 0.6430\n",
      "Epoch 112/200\n",
      "54000/54000 [==============================] - 0s 8us/step - loss: 1.0721 - accuracy: 0.6433 - val_loss: 1.1195 - val_accuracy: 0.6440\n",
      "Epoch 113/200\n",
      "54000/54000 [==============================] - 0s 8us/step - loss: 1.0648 - accuracy: 0.6450 - val_loss: 1.1132 - val_accuracy: 0.6457\n",
      "Epoch 114/200\n",
      "54000/54000 [==============================] - 0s 7us/step - loss: 1.0581 - accuracy: 0.6451 - val_loss: 1.1111 - val_accuracy: 0.6465\n",
      "Epoch 115/200\n",
      "54000/54000 [==============================] - 0s 7us/step - loss: 1.0516 - accuracy: 0.6472 - val_loss: 1.1020 - val_accuracy: 0.6470\n",
      "Epoch 116/200\n",
      "54000/54000 [==============================] - 0s 7us/step - loss: 1.0452 - accuracy: 0.6468 - val_loss: 1.0975 - val_accuracy: 0.6482\n",
      "Epoch 117/200\n",
      "54000/54000 [==============================] - 0s 7us/step - loss: 1.0393 - accuracy: 0.6479 - val_loss: 1.0927 - val_accuracy: 0.6490\n",
      "Epoch 118/200\n",
      "54000/54000 [==============================] - 0s 8us/step - loss: 1.0335 - accuracy: 0.6480 - val_loss: 1.0860 - val_accuracy: 0.6492\n",
      "Epoch 119/200\n",
      "54000/54000 [==============================] - 0s 7us/step - loss: 1.0277 - accuracy: 0.6493 - val_loss: 1.0837 - val_accuracy: 0.6520\n",
      "Epoch 120/200\n",
      "54000/54000 [==============================] - 0s 8us/step - loss: 1.0225 - accuracy: 0.6506 - val_loss: 1.0792 - val_accuracy: 0.6517\n",
      "Epoch 121/200\n",
      "54000/54000 [==============================] - 0s 8us/step - loss: 1.0170 - accuracy: 0.6507 - val_loss: 1.0733 - val_accuracy: 0.6512\n",
      "Epoch 122/200\n",
      "54000/54000 [==============================] - 0s 7us/step - loss: 1.0116 - accuracy: 0.6508 - val_loss: 1.0669 - val_accuracy: 0.6515\n",
      "Epoch 123/200\n",
      "54000/54000 [==============================] - 0s 8us/step - loss: 1.0070 - accuracy: 0.6514 - val_loss: 1.0646 - val_accuracy: 0.6508\n",
      "Epoch 124/200\n",
      "54000/54000 [==============================] - 0s 8us/step - loss: 1.0017 - accuracy: 0.6534 - val_loss: 1.0609 - val_accuracy: 0.6522\n",
      "Epoch 125/200\n",
      "54000/54000 [==============================] - 0s 8us/step - loss: 0.9970 - accuracy: 0.6537 - val_loss: 1.0567 - val_accuracy: 0.6535\n",
      "Epoch 126/200\n",
      "54000/54000 [==============================] - 0s 8us/step - loss: 0.9921 - accuracy: 0.6532 - val_loss: 1.0541 - val_accuracy: 0.6547\n",
      "Epoch 127/200\n",
      "54000/54000 [==============================] - 1s 9us/step - loss: 0.9876 - accuracy: 0.6542 - val_loss: 1.0502 - val_accuracy: 0.6555\n",
      "Epoch 128/200\n",
      "54000/54000 [==============================] - 0s 8us/step - loss: 0.9830 - accuracy: 0.6545 - val_loss: 1.0479 - val_accuracy: 0.6560\n",
      "Epoch 129/200\n",
      "54000/54000 [==============================] - 0s 8us/step - loss: 0.9785 - accuracy: 0.6556 - val_loss: 1.0428 - val_accuracy: 0.6563\n",
      "Epoch 130/200\n",
      "54000/54000 [==============================] - 0s 8us/step - loss: 0.9741 - accuracy: 0.6567 - val_loss: 1.0399 - val_accuracy: 0.6565\n",
      "Epoch 131/200\n",
      "54000/54000 [==============================] - 0s 8us/step - loss: 0.9700 - accuracy: 0.6566 - val_loss: 1.0360 - val_accuracy: 0.6600\n",
      "Epoch 132/200\n",
      "54000/54000 [==============================] - 0s 8us/step - loss: 0.9655 - accuracy: 0.6582 - val_loss: 1.0333 - val_accuracy: 0.6587\n",
      "Epoch 133/200\n",
      "54000/54000 [==============================] - 0s 8us/step - loss: 0.9613 - accuracy: 0.6590 - val_loss: 1.0291 - val_accuracy: 0.6600\n",
      "Epoch 134/200\n",
      "54000/54000 [==============================] - 0s 8us/step - loss: 0.9569 - accuracy: 0.6595 - val_loss: 1.0278 - val_accuracy: 0.6610\n",
      "Epoch 135/200\n",
      "54000/54000 [==============================] - 0s 8us/step - loss: 0.9533 - accuracy: 0.6602 - val_loss: 1.0223 - val_accuracy: 0.6610\n",
      "Epoch 136/200\n",
      "54000/54000 [==============================] - 0s 8us/step - loss: 0.9490 - accuracy: 0.6606 - val_loss: 1.0202 - val_accuracy: 0.6618\n",
      "Epoch 137/200\n",
      "54000/54000 [==============================] - 0s 8us/step - loss: 0.9453 - accuracy: 0.6611 - val_loss: 1.0166 - val_accuracy: 0.6613\n",
      "Epoch 138/200\n",
      "54000/54000 [==============================] - 0s 8us/step - loss: 0.9417 - accuracy: 0.6628 - val_loss: 1.0134 - val_accuracy: 0.6638\n",
      "Epoch 139/200\n",
      "54000/54000 [==============================] - 0s 8us/step - loss: 0.9379 - accuracy: 0.6731 - val_loss: 1.0108 - val_accuracy: 0.6725\n",
      "Epoch 140/200\n",
      "54000/54000 [==============================] - 0s 8us/step - loss: 0.9345 - accuracy: 0.6754 - val_loss: 1.0089 - val_accuracy: 0.6735\n",
      "Epoch 141/200\n",
      "54000/54000 [==============================] - 1s 21us/step - loss: 0.9313 - accuracy: 0.6764 - val_loss: 1.0046 - val_accuracy: 0.6757\n",
      "Epoch 142/200\n",
      "54000/54000 [==============================] - 1s 12us/step - loss: 0.9274 - accuracy: 0.6771 - val_loss: 1.0017 - val_accuracy: 0.6747\n",
      "Epoch 143/200\n",
      "54000/54000 [==============================] - 0s 8us/step - loss: 0.9241 - accuracy: 0.6774 - val_loss: 0.9987 - val_accuracy: 0.6767\n",
      "Epoch 144/200\n",
      "54000/54000 [==============================] - 0s 8us/step - loss: 0.9207 - accuracy: 0.6785 - val_loss: 0.9941 - val_accuracy: 0.6762\n",
      "Epoch 145/200\n",
      "54000/54000 [==============================] - 0s 8us/step - loss: 0.9178 - accuracy: 0.6792 - val_loss: 0.9929 - val_accuracy: 0.6773\n",
      "Epoch 146/200\n",
      "54000/54000 [==============================] - 0s 8us/step - loss: 0.9142 - accuracy: 0.6789 - val_loss: 0.9894 - val_accuracy: 0.6775\n",
      "Epoch 147/200\n",
      "54000/54000 [==============================] - 0s 8us/step - loss: 0.9111 - accuracy: 0.6802 - val_loss: 0.9874 - val_accuracy: 0.6797\n",
      "Epoch 148/200\n",
      "54000/54000 [==============================] - 1s 10us/step - loss: 0.9081 - accuracy: 0.6798 - val_loss: 0.9844 - val_accuracy: 0.6800\n",
      "Epoch 149/200\n",
      "54000/54000 [==============================] - 0s 8us/step - loss: 0.9049 - accuracy: 0.6803 - val_loss: 0.9840 - val_accuracy: 0.6805\n",
      "Epoch 150/200\n",
      "54000/54000 [==============================] - 0s 8us/step - loss: 0.9019 - accuracy: 0.6812 - val_loss: 0.9793 - val_accuracy: 0.6783\n",
      "Epoch 151/200\n",
      "54000/54000 [==============================] - 0s 8us/step - loss: 0.8987 - accuracy: 0.6814 - val_loss: 0.9780 - val_accuracy: 0.6788\n",
      "Epoch 152/200\n",
      "54000/54000 [==============================] - 0s 8us/step - loss: 0.8959 - accuracy: 0.6821 - val_loss: 0.9754 - val_accuracy: 0.6790\n",
      "Epoch 153/200\n",
      "54000/54000 [==============================] - 0s 8us/step - loss: 0.8928 - accuracy: 0.6832 - val_loss: 0.9724 - val_accuracy: 0.6800\n",
      "Epoch 154/200\n",
      "54000/54000 [==============================] - 0s 8us/step - loss: 0.8903 - accuracy: 0.6829 - val_loss: 0.9714 - val_accuracy: 0.6803\n",
      "Epoch 155/200\n",
      "54000/54000 [==============================] - 0s 8us/step - loss: 0.8873 - accuracy: 0.6839 - val_loss: 0.9662 - val_accuracy: 0.6817\n",
      "Epoch 156/200\n",
      "54000/54000 [==============================] - 0s 8us/step - loss: 0.8846 - accuracy: 0.6842 - val_loss: 0.9653 - val_accuracy: 0.6825\n",
      "Epoch 157/200\n",
      "54000/54000 [==============================] - 0s 8us/step - loss: 0.8819 - accuracy: 0.6847 - val_loss: 0.9650 - val_accuracy: 0.6825\n",
      "Epoch 158/200\n",
      "54000/54000 [==============================] - 0s 8us/step - loss: 0.8790 - accuracy: 0.6858 - val_loss: 0.9605 - val_accuracy: 0.6843\n",
      "Epoch 159/200\n",
      "54000/54000 [==============================] - 0s 8us/step - loss: 0.8766 - accuracy: 0.6857 - val_loss: 0.9578 - val_accuracy: 0.6835\n",
      "Epoch 160/200\n",
      "54000/54000 [==============================] - 0s 8us/step - loss: 0.8736 - accuracy: 0.6865 - val_loss: 0.9548 - val_accuracy: 0.6837\n",
      "Epoch 161/200\n",
      "54000/54000 [==============================] - 0s 8us/step - loss: 0.8710 - accuracy: 0.6868 - val_loss: 0.9546 - val_accuracy: 0.6840\n",
      "Epoch 162/200\n",
      "54000/54000 [==============================] - 0s 8us/step - loss: 0.8686 - accuracy: 0.6873 - val_loss: 0.9495 - val_accuracy: 0.6837\n",
      "Epoch 163/200\n",
      "54000/54000 [==============================] - 0s 7us/step - loss: 0.8661 - accuracy: 0.6870 - val_loss: 0.9511 - val_accuracy: 0.6843\n",
      "Epoch 164/200\n",
      "54000/54000 [==============================] - 0s 8us/step - loss: 0.8635 - accuracy: 0.6876 - val_loss: 0.9468 - val_accuracy: 0.6845\n",
      "Epoch 165/200\n",
      "54000/54000 [==============================] - 0s 8us/step - loss: 0.8612 - accuracy: 0.6890 - val_loss: 0.9455 - val_accuracy: 0.6842\n",
      "Epoch 166/200\n",
      "54000/54000 [==============================] - 0s 8us/step - loss: 0.8587 - accuracy: 0.6889 - val_loss: 0.9443 - val_accuracy: 0.6863\n",
      "Epoch 167/200\n",
      "54000/54000 [==============================] - 0s 8us/step - loss: 0.8567 - accuracy: 0.6888 - val_loss: 0.9407 - val_accuracy: 0.6857\n",
      "Epoch 168/200\n",
      "54000/54000 [==============================] - 0s 8us/step - loss: 0.8541 - accuracy: 0.6895 - val_loss: 0.9374 - val_accuracy: 0.6853\n",
      "Epoch 169/200\n",
      "54000/54000 [==============================] - 0s 8us/step - loss: 0.8520 - accuracy: 0.6895 - val_loss: 0.9383 - val_accuracy: 0.6872\n",
      "Epoch 170/200\n",
      "54000/54000 [==============================] - 0s 8us/step - loss: 0.8499 - accuracy: 0.6897 - val_loss: 0.9344 - val_accuracy: 0.6875\n",
      "Epoch 171/200\n",
      "54000/54000 [==============================] - 0s 9us/step - loss: 0.8478 - accuracy: 0.6907 - val_loss: 0.9345 - val_accuracy: 0.6880\n",
      "Epoch 172/200\n",
      "54000/54000 [==============================] - 0s 8us/step - loss: 0.8454 - accuracy: 0.6915 - val_loss: 0.9300 - val_accuracy: 0.6875\n",
      "Epoch 173/200\n",
      "54000/54000 [==============================] - 0s 8us/step - loss: 0.8435 - accuracy: 0.6918 - val_loss: 0.9277 - val_accuracy: 0.6878\n",
      "Epoch 174/200\n",
      "54000/54000 [==============================] - 0s 8us/step - loss: 0.8410 - accuracy: 0.6918 - val_loss: 0.9251 - val_accuracy: 0.6883\n",
      "Epoch 175/200\n",
      "54000/54000 [==============================] - 0s 8us/step - loss: 0.8387 - accuracy: 0.6932 - val_loss: 0.9231 - val_accuracy: 0.6897\n",
      "Epoch 176/200\n",
      "54000/54000 [==============================] - 0s 8us/step - loss: 0.8369 - accuracy: 0.6933 - val_loss: 0.9202 - val_accuracy: 0.6895\n",
      "Epoch 177/200\n",
      "54000/54000 [==============================] - 0s 8us/step - loss: 0.8346 - accuracy: 0.6936 - val_loss: 0.9208 - val_accuracy: 0.6907\n",
      "Epoch 178/200\n",
      "54000/54000 [==============================] - 0s 8us/step - loss: 0.8323 - accuracy: 0.6939 - val_loss: 0.9190 - val_accuracy: 0.6907\n",
      "Epoch 179/200\n",
      "54000/54000 [==============================] - 0s 8us/step - loss: 0.8301 - accuracy: 0.6945 - val_loss: 0.9190 - val_accuracy: 0.6912\n",
      "Epoch 180/200\n",
      "54000/54000 [==============================] - 0s 8us/step - loss: 0.8283 - accuracy: 0.6950 - val_loss: 0.9178 - val_accuracy: 0.6920\n",
      "Epoch 181/200\n",
      "54000/54000 [==============================] - 0s 8us/step - loss: 0.8263 - accuracy: 0.6955 - val_loss: 0.9145 - val_accuracy: 0.6908\n",
      "Epoch 182/200\n",
      "54000/54000 [==============================] - 0s 8us/step - loss: 0.8241 - accuracy: 0.6954 - val_loss: 0.9122 - val_accuracy: 0.6922\n",
      "Epoch 183/200\n",
      "54000/54000 [==============================] - 0s 8us/step - loss: 0.8221 - accuracy: 0.6965 - val_loss: 0.9116 - val_accuracy: 0.6923\n",
      "Epoch 184/200\n",
      "54000/54000 [==============================] - 0s 8us/step - loss: 0.8201 - accuracy: 0.6972 - val_loss: 0.9107 - val_accuracy: 0.6922\n",
      "Epoch 185/200\n",
      "54000/54000 [==============================] - 0s 8us/step - loss: 0.8184 - accuracy: 0.6971 - val_loss: 0.9080 - val_accuracy: 0.6927\n",
      "Epoch 186/200\n",
      "54000/54000 [==============================] - 0s 8us/step - loss: 0.8164 - accuracy: 0.6975 - val_loss: 0.9081 - val_accuracy: 0.6942\n",
      "Epoch 187/200\n",
      "54000/54000 [==============================] - 0s 8us/step - loss: 0.8144 - accuracy: 0.6982 - val_loss: 0.9042 - val_accuracy: 0.6930\n",
      "Epoch 188/200\n",
      "54000/54000 [==============================] - 0s 8us/step - loss: 0.8126 - accuracy: 0.6980 - val_loss: 0.9043 - val_accuracy: 0.6935\n",
      "Epoch 189/200\n",
      "54000/54000 [==============================] - 0s 8us/step - loss: 0.8107 - accuracy: 0.6990 - val_loss: 0.9032 - val_accuracy: 0.6927\n",
      "Epoch 190/200\n",
      "54000/54000 [==============================] - 0s 8us/step - loss: 0.8089 - accuracy: 0.6988 - val_loss: 0.9015 - val_accuracy: 0.6937\n",
      "Epoch 191/200\n",
      "54000/54000 [==============================] - 0s 8us/step - loss: 0.8074 - accuracy: 0.6994 - val_loss: 0.9009 - val_accuracy: 0.6950\n",
      "Epoch 192/200\n",
      "54000/54000 [==============================] - 0s 8us/step - loss: 0.8055 - accuracy: 0.6997 - val_loss: 0.8977 - val_accuracy: 0.6943\n",
      "Epoch 193/200\n",
      "54000/54000 [==============================] - 0s 8us/step - loss: 0.8039 - accuracy: 0.6998 - val_loss: 0.8955 - val_accuracy: 0.6943\n",
      "Epoch 194/200\n",
      "54000/54000 [==============================] - 0s 8us/step - loss: 0.8022 - accuracy: 0.7000 - val_loss: 0.8939 - val_accuracy: 0.6950\n",
      "Epoch 195/200\n",
      "54000/54000 [==============================] - 0s 9us/step - loss: 0.8007 - accuracy: 0.7004 - val_loss: 0.8934 - val_accuracy: 0.6950\n",
      "Epoch 196/200\n",
      "54000/54000 [==============================] - 0s 8us/step - loss: 0.7986 - accuracy: 0.7009 - val_loss: 0.8946 - val_accuracy: 0.6957\n",
      "Epoch 197/200\n",
      "54000/54000 [==============================] - 0s 8us/step - loss: 0.7974 - accuracy: 0.7016 - val_loss: 0.8909 - val_accuracy: 0.6947\n",
      "Epoch 198/200\n",
      "54000/54000 [==============================] - 0s 8us/step - loss: 0.7958 - accuracy: 0.7011 - val_loss: 0.8885 - val_accuracy: 0.6948\n",
      "Epoch 199/200\n",
      "54000/54000 [==============================] - 0s 8us/step - loss: 0.7940 - accuracy: 0.7013 - val_loss: 0.8874 - val_accuracy: 0.6953\n",
      "Epoch 200/200\n",
      "54000/54000 [==============================] - 0s 8us/step - loss: 0.7926 - accuracy: 0.7017 - val_loss: 0.8868 - val_accuracy: 0.6965\n"
     ]
    },
    {
     "data": {
      "text/plain": [
       "<keras.callbacks.callbacks.History at 0x78fd440d9dd0>"
      ]
     },
     "execution_count": 10,
     "metadata": {},
     "output_type": "execute_result"
    }
   ],
   "source": [
    "batch_size = 512\n",
    "model_single_layer.fit(x_train, \n",
    "                       y_train_categorical,\n",
    "                       epochs=200, batch_size=batch_size, \n",
    "                       verbose=1, \n",
    "                       validation_data = (x_valid, y_val_categorical)\n",
    "                      )"
   ]
  },
  {
   "cell_type": "code",
   "execution_count": 11,
   "metadata": {
    "execution": {
     "iopub.execute_input": "2023-06-25T13:46:05.318312Z",
     "iopub.status.busy": "2023-06-25T13:46:05.317255Z",
     "iopub.status.idle": "2023-06-25T13:46:05.791191Z",
     "shell.execute_reply": "2023-06-25T13:46:05.791696Z",
     "shell.execute_reply.started": "2023-06-25T13:42:48.285810Z"
    },
    "papermill": {
     "duration": 1.120485,
     "end_time": "2023-06-25T13:46:05.791878",
     "exception": false,
     "start_time": "2023-06-25T13:46:04.671393",
     "status": "completed"
    },
    "tags": []
   },
   "outputs": [
    {
     "data": {
      "image/png": "[encoded data removed]",
      "text/plain": [
       "<Figure size 1440x432 with 2 Axes>"
      ]
     },
     "metadata": {
      "needs_background": "light"
     },
     "output_type": "display_data"
    }
   ],
   "source": [
    "f, (ax1, ax2) = plt.subplots(1, 2, figsize=(20,6))\n",
    "ax1.plot(model_single_layer.history.history['loss'], label='train')\n",
    "ax1.plot(model_single_layer.history.history['val_loss'], label='val')\n",
    "ax1.set_title('Loss - Cross Entropy')\n",
    "ax1.legend()\n",
    "ax2.plot(model_single_layer.history.history['accuracy'], label='train')\n",
    "ax2.plot(model_single_layer.history.history['val_accuracy'], label='val')\n",
    "ax2.set_title('Metric - Accuracy')\n",
    "ax2.legend()\n",
    "plt.show()"
   ]
  },
  {
   "cell_type": "code",
   "execution_count": 12,
   "metadata": {
    "execution": {
     "iopub.execute_input": "2023-06-25T13:46:07.059461Z",
     "iopub.status.busy": "2023-06-25T13:46:07.058413Z",
     "iopub.status.idle": "2023-06-25T13:46:07.355551Z",
     "shell.execute_reply": "2023-06-25T13:46:07.354471Z",
     "shell.execute_reply.started": "2023-06-25T13:42:51.531373Z"
    },
    "papermill": {
     "duration": 0.937307,
     "end_time": "2023-06-25T13:46:07.355674",
     "exception": false,
     "start_time": "2023-06-25T13:46:06.418367",
     "status": "completed"
    },
    "tags": []
   },
   "outputs": [
    {
     "name": "stdout",
     "output_type": "stream",
     "text": [
      "0.6965000033378601 0.8868346468607584\n"
     ]
    }
   ],
   "source": [
    "loss, acc = model_single_layer.evaluate(x_valid, y_val_categorical, verbose=0)\n",
    "print(acc, loss)"
   ]
  },
  {
   "cell_type": "code",
   "execution_count": 13,
   "metadata": {
    "execution": {
     "iopub.execute_input": "2023-06-25T13:46:08.657031Z",
     "iopub.status.busy": "2023-06-25T13:46:08.656394Z",
     "iopub.status.idle": "2023-06-25T13:46:08.962075Z",
     "shell.execute_reply": "2023-06-25T13:46:08.962609Z",
     "shell.execute_reply.started": "2023-06-25T13:42:54.321860Z"
    },
    "papermill": {
     "duration": 0.980061,
     "end_time": "2023-06-25T13:46:08.962769",
     "exception": false,
     "start_time": "2023-06-25T13:46:07.982708",
     "status": "completed"
    },
    "tags": []
   },
   "outputs": [
    {
     "name": "stdout",
     "output_type": "stream",
     "text": [
      "(10000, 10)\n"
     ]
    }
   ],
   "source": [
    "# Calculo probabilidades de cada clase para cada observación\n",
    "test_prediction = model_single_layer.predict(x_test)\n",
    "print(test_prediction.shape)"
   ]
  },
  {
   "cell_type": "code",
   "execution_count": 14,
   "metadata": {
    "execution": {
     "iopub.execute_input": "2023-06-25T13:46:10.632294Z",
     "iopub.status.busy": "2023-06-25T13:46:10.631406Z",
     "iopub.status.idle": "2023-06-25T13:46:10.636775Z",
     "shell.execute_reply": "2023-06-25T13:46:10.637467Z",
     "shell.execute_reply.started": "2023-06-25T13:42:57.184379Z"
    },
    "papermill": {
     "duration": 0.957365,
     "end_time": "2023-06-25T13:46:10.637665",
     "exception": false,
     "start_time": "2023-06-25T13:46:09.680300",
     "status": "completed"
    },
    "tags": []
   },
   "outputs": [
    {
     "name": "stdout",
     "output_type": "stream",
     "text": [
      "[3 2 7 ... 4 3 7]\n"
     ]
    }
   ],
   "source": [
    "# Calculo clase\n",
    "test_labels = np.argmax(test_prediction, axis = 1)\n",
    "print(test_labels)"
   ]
  },
  {
   "cell_type": "markdown",
   "metadata": {
    "papermill": {
     "duration": 0.689711,
     "end_time": "2023-06-25T13:46:12.042739",
     "exception": false,
     "start_time": "2023-06-25T13:46:11.353028",
     "status": "completed"
    },
    "tags": []
   },
   "source": [
    "# Armo CSV para submitear"
   ]
  },
  {
   "cell_type": "code",
   "execution_count": 15,
   "metadata": {
    "execution": {
     "iopub.execute_input": "2023-06-25T13:46:13.316134Z",
     "iopub.status.busy": "2023-06-25T13:46:13.315333Z",
     "iopub.status.idle": "2023-06-25T13:46:13.384245Z",
     "shell.execute_reply": "2023-06-25T13:46:13.383620Z",
     "shell.execute_reply.started": "2023-06-25T13:43:08.610939Z"
    },
    "papermill": {
     "duration": 0.705439,
     "end_time": "2023-06-25T13:46:13.384383",
     "exception": false,
     "start_time": "2023-06-25T13:46:12.678944",
     "status": "completed"
    },
    "tags": []
   },
   "outputs": [],
   "source": [
    "import pandas\n",
    "df = pandas.DataFrame(data={\"Category\": test_labels}).astype(int)\n",
    "df.to_csv(\"./submission.csv\", sep=',',index=True,  index_label='Id')"
   ]
  },
  {
   "cell_type": "code",
   "execution_count": null,
   "metadata": {
    "papermill": {
     "duration": 0.629612,
     "end_time": "2023-06-25T13:46:14.645307",
     "exception": false,
     "start_time": "2023-06-25T13:46:14.015695",
     "status": "completed"
    },
    "tags": []
   },
   "outputs": [],
   "source": []
  }
 ],
 "metadata": {
  "kernelspec": {
   "display_name": "Python 3",
   "language": "python",
   "name": "python3"
  },
  "language_info": {
   "codemirror_mode": {
    "name": "ipython",
    "version": 3
   },
   "file_extension": ".py",
   "mimetype": "text/x-python",
   "name": "python",
   "nbconvert_exporter": "python",
   "pygments_lexer": "ipython3",
   "version": "3.7.6"
  },
  "papermill": {
   "duration": 112.594898,
   "end_time": "2023-06-25T13:46:15.490488",
   "environment_variables": {},
   "exception": null,
   "input_path": "__notebook__.ipynb",
   "output_path": "__notebook__.ipynb",
   "parameters": {},
   "start_time": "2023-06-25T13:44:22.895590",
   "version": "2.1.0"
  }
 },
 "nbformat": 4,
 "nbformat_minor": 4
}
