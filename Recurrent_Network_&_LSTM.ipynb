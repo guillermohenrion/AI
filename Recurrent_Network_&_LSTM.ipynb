{
  "nbformat": 4,
  "nbformat_minor": 0,
  "metadata": {
    "colab": {
      "name": "Recurrent Network & LSTM.ipynb",
      "provenance": [],
      "collapsed_sections": [],
      "authorship_tag": "ABX9TyP7KEErHa+Y92erTKxk5ppt",
      "include_colab_link": true
    },
    "kernelspec": {
      "name": "python3",
      "display_name": "Python 3"
    }
  },
  "cells": [
    {
      "cell_type": "markdown",
      "metadata": {
        "id": "view-in-github",
        "colab_type": "text"
      },
      "source": [
        "<a href=\"https://colab.research.google.com/github/guillermohenrion/AI/blob/master/Recurrent_Network_%26_LSTM.ipynb\" target=\"_parent\"><img src=\"https://colab.research.google.com/assets/colab-badge.svg\" alt=\"Open In Colab\"/></a>"
      ]
    },
    {
      "cell_type": "markdown",
      "metadata": {
        "id": "eMZvq3riteGh",
        "colab_type": "text"
      },
      "source": [
        "#Recurrent Neural Network (RNN)"
      ]
    },
    {
      "cell_type": "markdown",
      "metadata": {
        "id": "WaY9uyIdthXs",
        "colab_type": "text"
      },
      "source": [
        "![](https://miro.medium.com/max/627/1*go8PHsPNbbV6qRiwpUQ5BQ.png)"
      ]
    },
    {
      "cell_type": "markdown",
      "metadata": {
        "id": "tPC7gvwEtppU",
        "colab_type": "text"
      },
      "source": [
        "#Long Short Term Memory (LSTM)"
      ]
    },
    {
      "cell_type": "markdown",
      "metadata": {
        "id": "-AksWlAhtt5u",
        "colab_type": "text"
      },
      "source": [
        "![](https://miro.medium.com/max/700/1*MwU5yk8f9d6IcLybvGgNxA.jpeg)"
      ]
    },
    {
      "cell_type": "code",
      "metadata": {
        "id": "PJWU23tKsHTO",
        "colab_type": "code",
        "colab": {}
      },
      "source": [
        ""
      ],
      "execution_count": null,
      "outputs": []
    },
    {
      "cell_type": "code",
      "metadata": {
        "id": "EuOIy6UTtvp4",
        "colab_type": "code",
        "colab": {}
      },
      "source": [
        ""
      ],
      "execution_count": null,
      "outputs": []
    }
  ]
}